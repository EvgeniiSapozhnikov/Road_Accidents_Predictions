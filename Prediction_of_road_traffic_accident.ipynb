{
 "cells": [
  {
   "cell_type": "markdown",
   "id": "0c2603c7",
   "metadata": {
    "ExecuteTime": {
     "end_time": "2022-05-05T04:58:05.692448Z",
     "start_time": "2022-05-05T04:58:05.688565Z"
    }
   },
   "source": [
    "## Подключение к БД"
   ]
  },
  {
   "cell_type": "markdown",
   "id": "656d251a",
   "metadata": {},
   "source": [
    "Загрузим необходимые для работы библиотеки"
   ]
  },
  {
   "cell_type": "code",
   "execution_count": null,
   "id": "61780b5e",
   "metadata": {},
   "outputs": [],
   "source": [
    "import warnings\n",
    "\n",
    "import pandas as pd\n",
    "import optuna\n",
    "import torch\n",
    "import torch.nn as nn\n",
    "import plotly.graph_objects as go\n",
    "import plotly.figure_factory as ff\n",
    "import plotly.express as px\n",
    "\n",
    "from sqlalchemy import create_engine \n",
    "from sklearn.model_selection import train_test_split\n",
    "from sklearn.compose import ColumnTransformer\n",
    "from sklearn.preprocessing import StandardScaler, OneHotEncoder\n",
    "from sklearn.ensemble import RandomForestClassifier\n",
    "from sklearn.metrics import confusion_matrix, classification_report, roc_auc_score\n",
    "from catboost import CatBoostClassifier\n",
    "\n",
    "warnings.filterwarnings('ignore')"
   ]
  },
  {
   "cell_type": "code",
   "execution_count": null,
   "id": "0b0eec1b",
   "metadata": {},
   "outputs": [],
   "source": [
    "db_config = {\n",
    "'user': 'praktikum_student', # имя пользователя,\n",
    "'pwd': 'Sdf4$2;d-d30pp', # пароль,\n",
    "'host': 'rc1b-wcoijxj3yxfsf3fs.mdb.yandexcloud.net',\n",
    "'port': 6432, # порт подключения,\n",
    "'db': 'data-science-vehicle-db' # название базы данных,\n",
    "}\n",
    "\n",
    "connection_string = 'postgresql://{}:{}@{}:{}/{}'.format(\n",
    "    db_config['user'],\n",
    "    db_config['pwd'],\n",
    "    db_config['host'],\n",
    "    db_config['port'],\n",
    "    db_config['db'],\n",
    ")"
   ]
  },
  {
   "cell_type": "code",
   "execution_count": null,
   "id": "e2045d01",
   "metadata": {},
   "outputs": [],
   "source": [
    "engine = create_engine(connection_string) "
   ]
  },
  {
   "cell_type": "markdown",
   "id": "5adbc948",
   "metadata": {},
   "source": [
    "## Первичное исследование таблиц"
   ]
  },
  {
   "cell_type": "markdown",
   "id": "6c0f03d1",
   "metadata": {},
   "source": [
    "На начальном этапе выгрузим имеющиеся таблицы, а также посмотрим, какие типы данных в них встречаются и имеются ли в данных пропуски. "
   ]
  },
  {
   "cell_type": "code",
   "execution_count": null,
   "id": "1cb20067",
   "metadata": {},
   "outputs": [],
   "source": [
    "def introduction_to_data(df):\n",
    "    parameters = dict()\n",
    "    parameters['column name'] = list(df.columns)\n",
    "    parameters['type'] = list(df.dtypes)\n",
    "    parameters['non-null'] = list(df.count())\n",
    "    parameters['null_quantity'] = list(df.isnull().sum())\n",
    "    parameters['null_percentage'] = list((df.isnull().sum())/(df.count()+df.isnull().sum())*100)\n",
    "    \n",
    "    info = pd.DataFrame(parameters)\n",
    "\n",
    "    return  display(info)"
   ]
  },
  {
   "cell_type": "code",
   "execution_count": null,
   "id": "66e413f2",
   "metadata": {},
   "outputs": [],
   "source": [
    "query = '''\n",
    "SELECT *\n",
    "FROM parties;\n",
    "'''\n",
    "\n",
    "df_first_look = pd.read_sql_query(query, con=engine) \n",
    "\n",
    "df_first_look"
   ]
  },
  {
   "cell_type": "code",
   "execution_count": null,
   "id": "26217dc3",
   "metadata": {},
   "outputs": [],
   "source": [
    "info = introduction_to_data(df_first_look)\n",
    "\n",
    "info"
   ]
  },
  {
   "cell_type": "code",
   "execution_count": null,
   "id": "39477636",
   "metadata": {},
   "outputs": [],
   "source": [
    "del df_first_look"
   ]
  },
  {
   "cell_type": "code",
   "execution_count": null,
   "id": "4f869b69",
   "metadata": {},
   "outputs": [],
   "source": [
    "query = '''\n",
    "SELECT *\n",
    "FROM collisions;\n",
    "'''\n",
    "\n",
    "df_first_look = pd.read_sql_query(query, con=engine) \n",
    "\n",
    "df_first_look"
   ]
  },
  {
   "cell_type": "code",
   "execution_count": null,
   "id": "f29ccbac",
   "metadata": {},
   "outputs": [],
   "source": [
    "info = introduction_to_data(df_first_look)\n",
    "\n",
    "info"
   ]
  },
  {
   "cell_type": "code",
   "execution_count": null,
   "id": "40c51955",
   "metadata": {},
   "outputs": [],
   "source": [
    "del df_first_look"
   ]
  },
  {
   "cell_type": "code",
   "execution_count": null,
   "id": "b1add1b8",
   "metadata": {},
   "outputs": [],
   "source": [
    "query = '''\n",
    "SELECT *\n",
    "FROM vehicles;\n",
    "'''\n",
    "\n",
    "df_first_look = pd.read_sql_query(query, con=engine) \n",
    "\n",
    "df_first_look"
   ]
  },
  {
   "cell_type": "code",
   "execution_count": null,
   "id": "5b1811f8",
   "metadata": {},
   "outputs": [],
   "source": [
    "info = introduction_to_data(df_first_look)\n",
    "\n",
    "info"
   ]
  },
  {
   "cell_type": "code",
   "execution_count": null,
   "id": "d4cc86ad",
   "metadata": {},
   "outputs": [],
   "source": [
    "del df_first_look"
   ]
  },
  {
   "cell_type": "code",
   "execution_count": null,
   "id": "27f5739c",
   "metadata": {},
   "outputs": [],
   "source": [
    "query = '''\n",
    "SELECT *\n",
    "FROM case_ids;\n",
    "'''\n",
    "\n",
    "df_first_look = pd.read_sql_query(query, con=engine) \n",
    "\n",
    "df_first_look"
   ]
  },
  {
   "cell_type": "code",
   "execution_count": null,
   "id": "a7182b70",
   "metadata": {},
   "outputs": [],
   "source": [
    "info = introduction_to_data(df_first_look)\n",
    "\n",
    "info"
   ]
  },
  {
   "cell_type": "code",
   "execution_count": null,
   "id": "6a60bafb",
   "metadata": {},
   "outputs": [],
   "source": [
    "del df_first_look"
   ]
  },
  {
   "cell_type": "markdown",
   "id": "82467a3b",
   "metadata": {},
   "source": [
    "Исходя из предварительного анализа можно сделать следующие выводы:\n",
    "1. Все таблицы имеют данные. При этом по отдельным полям обнаружено значительное количество пропусков (необходимо принять во внимание при подготовке данных для анализа и обучения моделей). \n",
    "2. Количество таблиц соответствует условию задачи. \n",
    "3. Таблицы связаны единым ключом - полем `case_id`."
   ]
  },
  {
   "cell_type": "markdown",
   "id": "f135f0e3",
   "metadata": {},
   "source": [
    "##  Статистический анализ факторов ДТП"
   ]
  },
  {
   "cell_type": "markdown",
   "id": "b231b016",
   "metadata": {},
   "source": [
    "### Распределение ДТП по месяцам"
   ]
  },
  {
   "cell_type": "code",
   "execution_count": null,
   "id": "a335b0a2",
   "metadata": {},
   "outputs": [],
   "source": [
    "query = '''\n",
    "SELECT DATE_PART('month', collision_date) as month,\n",
    "       COUNT(DISTINCT case_id)\n",
    "FROM collisions\n",
    "GROUP BY month;\n",
    "'''\n",
    "\n",
    "df_accidents = pd.read_sql_query(query, con=engine) \n",
    "\n",
    "df_accidents"
   ]
  },
  {
   "cell_type": "code",
   "execution_count": null,
   "id": "9121d000",
   "metadata": {},
   "outputs": [],
   "source": [
    "fig_1 = go.Figure()\n",
    "\n",
    "fig_1.add_trace(\n",
    "    go.Bar(\n",
    "        x = ['January','February','March','April','May','June','July','August','September','October','November','December'], \n",
    "        y = df_accidents['count'],\n",
    "        marker_color='rgb(0,0,100)'\n",
    "    )\n",
    ")\n",
    "\n",
    "fig_1.update_layout(title=\"Quantity of accidents per month\",\n",
    "                    xaxis_title=\"Month\",\n",
    "                    yaxis_title=\"Quantity, u\",\n",
    "                   )\n",
    "\n",
    "fig_1.show()"
   ]
  },
  {
   "cell_type": "code",
   "execution_count": null,
   "id": "d42cfbf4",
   "metadata": {},
   "outputs": [],
   "source": [
    "del df_accidents"
   ]
  },
  {
   "cell_type": "markdown",
   "id": "6d9a1603",
   "metadata": {},
   "source": [
    "Исходя из данных, представленных на графике, можно заключить, что в первые пять месяцев происходит больше аварий, чем в остальные. Попробуем найти причины такого распределения: \n",
    "1. Высокая аварийность в первые 3 месяца может быть обусловлена неблагоприятными погодными условиями, ОДНАКО в таком случае в декабре тоже должен наблюдаться рост количества ДТП (если только не списать отсутствие роста на рождественские праздники, в которые люди часто проводят время дома с семьей/друзьями). \n",
    "2. Снижение числа ДТП в летние месяцы можно объяснить началом отпусков и общим снижением траффика на дорогах, что отчасти может подтверждаться ростом числа ДТП в октябре. "
   ]
  },
  {
   "cell_type": "markdown",
   "id": "4ebf9acf",
   "metadata": {},
   "source": [
    "### Постановка задач для дополнительного анализа"
   ]
  },
  {
   "cell_type": "markdown",
   "id": "a0ce312a",
   "metadata": {},
   "source": [
    "Для анализа было бы интересно рассмотреть следующие задачи:\n",
    "1. Распределение ДТП в зависимости от погодных условий на момент ДТП.\n",
    "2. Распределение ДТП в зависимости от состояния проезжей части на момент ДТП.\n",
    "3. Категория нарушения, физическое состояние участника и тяжесть последствий ДТП (для этого необходимо связать `collisions` и `parties` - <b>будет рассмотрена отдельно</b>).\n",
    "4. Тип аварии и тяжесть последствий ДТП.\n",
    "5. Распределение ДТП в зависимости от времени суток, физическое состояние участника и тяжесть последствий ДТП (для этого необходимо связать `collisions` и `parties` - <b>будет рассмотрена отдельно</b>).\n",
    "6. Распределение ДТП в зависимости от дорожных условий (в таблице `collision` поле `ROAD_CONDITION`) на момент ДТП."
   ]
  },
  {
   "cell_type": "markdown",
   "id": "db7adff5",
   "metadata": {},
   "source": [
    "#### Анализ категории нарушения, физического состояния участника и тяжести последствий ДТП"
   ]
  },
  {
   "cell_type": "code",
   "execution_count": null,
   "id": "77233557",
   "metadata": {},
   "outputs": [],
   "source": [
    "query = '''\n",
    "SELECT COUNT (col.case_id),\n",
    "       primary_collision_factor AS factor,\n",
    "       collision_damage AS damage,\n",
    "       party_drug_physical AS participant_condition\n",
    "FROM collisions AS col\n",
    "INNER JOIN parties AS par ON col.case_id = par.case_id\n",
    "WHERE party_drug_physical <> '-' AND primary_collision_factor <> '-'\n",
    "GROUP BY factor, damage, participant_condition;\n",
    "'''\n",
    "\n",
    "df_accidents = pd.read_sql_query(query, con=engine) \n",
    "\n",
    "df_accidents"
   ]
  },
  {
   "cell_type": "code",
   "execution_count": null,
   "id": "c3e668f2",
   "metadata": {},
   "outputs": [],
   "source": [
    "fig = px.bar(df_accidents, x=\"participant_condition\", y=\"count\", color=\"damage\", barmode=\"group\", facet_col=\"factor\")\n",
    "\n",
    "fig.update_layout(title=\"Distribution of accidents per factor and participant's condition\",\n",
    "                   yaxis_title=\"Quantity of accidents, u\",\n",
    "                    legend=dict(x=0.5, y=-0.7, xanchor=\"center\", orientation=\"h\"),\n",
    "                   )\n",
    "fig.show()"
   ]
  },
  {
   "cell_type": "markdown",
   "id": "ddb46bf5",
   "metadata": {},
   "source": [
    "По результатам анализа данного графика можно сделать следующие выводы:\n",
    "1. Основной причиной ДТП является нарушение правил дорожного движения. \n",
    "2. По имеющимся данным невозможно определить влияние состояния участника на вероятность ДТП - для большинства участников состояние либо не оценивалось, либо неизвестно. "
   ]
  },
  {
   "cell_type": "code",
   "execution_count": null,
   "id": "8f5869e1",
   "metadata": {},
   "outputs": [],
   "source": [
    "del df_accidents"
   ]
  },
  {
   "cell_type": "markdown",
   "id": "742b0f76",
   "metadata": {},
   "source": [
    "#### Анализ времени суток, физического состояния участника и тяжести последствий ДТП"
   ]
  },
  {
   "cell_type": "code",
   "execution_count": null,
   "id": "8ff0957f",
   "metadata": {},
   "outputs": [],
   "source": [
    "query = '''\n",
    "SELECT COUNT (col.case_id),\n",
    "       DATE_PART('hour', collision_time) AS hour,\n",
    "       CASE \n",
    "            WHEN DATE_PART('hour', collision_time)>=4 AND DATE_PART('hour', collision_time)<10 THEN 'morning'\n",
    "            WHEN DATE_PART('hour', collision_time)>=10 AND DATE_PART('hour', collision_time)<17 THEN 'day'\n",
    "            WHEN DATE_PART('hour', collision_time)>=17 AND DATE_PART('hour', collision_time)<23 THEN 'evening'\n",
    "            ELSE 'night'\n",
    "       END,\n",
    "       collision_damage AS damage,\n",
    "       party_drug_physical AS participant_condition\n",
    "FROM collisions AS col\n",
    "INNER JOIN parties AS par ON col.case_id = par.case_id\n",
    "WHERE party_drug_physical <> '-' AND collision_time IS NOT NULL\n",
    "GROUP BY hour, damage, participant_condition;\n",
    "'''\n",
    "\n",
    "df_accidents = pd.read_sql_query(query, con=engine) \n",
    "\n",
    "df_accidents"
   ]
  },
  {
   "cell_type": "code",
   "execution_count": null,
   "id": "e1f1ed2b",
   "metadata": {},
   "outputs": [],
   "source": [
    "fig = px.bar(df_accidents, x=\"participant_condition\", y=\"count\", color=\"damage\", barmode=\"group\", facet_col=\"case\")\n",
    "\n",
    "fig.update_layout(title=\"Distribution of accidents per time and participant's condition\",\n",
    "                   yaxis_title=\"Quantity of accidents, u\",\n",
    "                    legend=dict(x=0.5, y=-0.7, xanchor=\"center\", orientation=\"h\"),\n",
    "                   )\n",
    "fig.show()"
   ]
  },
  {
   "cell_type": "markdown",
   "id": "5ac4fd6a",
   "metadata": {},
   "source": [
    "По результатам анализа данного графика можно сделать следующие выводы:\n",
    "1. Основной количество ДТП приходится на период с 10:00 до 23:00. \n",
    "2. Для утренних и ночных часов можно заметить рост числа уснувших за рулем.\n",
    "3. Для дневных и вечерних часов можно заметитт рост числа водителей под воздействием лекарств. \n",
    "4. В целом по имеющимся данным сложно определить влияние состояния участника на вероятность ДТП - для большинства участников состояние либо не оценивалось, либо неизвестно. "
   ]
  },
  {
   "cell_type": "code",
   "execution_count": null,
   "id": "e557e8de",
   "metadata": {},
   "outputs": [],
   "source": [
    "del df_accidents"
   ]
  },
  {
   "cell_type": "markdown",
   "id": "13c86e16",
   "metadata": {},
   "source": [
    "### Предобработка данных"
   ]
  },
  {
   "cell_type": "markdown",
   "id": "1964c59c",
   "metadata": {},
   "source": [
    "Датасет для моделей будет включать в себя следующие поля:\n",
    "1. Дата происшествия (`collision_date`) - в будние и выходные дни количество ДТП может разниться, так же как и по месяцам года. \n",
    "2. Время происшествия (`collision_time`) - в определенные часы траффик интенсивнее и, как следствие, количество ДТП возрастает. \n",
    "3. Является ли место происшествие перекрёстком (`intersection`) - на автомобильных дорогах и внутригородских магистралях/улицах часто встречаются места концентрации ДТП, их полезно выявлять. \n",
    "4. Погода (`weather_1`) - погодные условия также влияют на вероятность возникновения ДТП.\n",
    "5. Основной фактор аварии (`primary_collision_factor`).\n",
    "6. Состояние дороги (`road_surface`) - состояние проезжей части важно учитывать при анализе ДТП. \n",
    "7. Освещение (`lighting`) - освещенность также является важным фактором при учете риска возникновения ДТП. \n",
    "8. Номер географических районов (`county_city_location`) - данное поле может косвенно учитывать климатические условия районов, что немаловажно. \n",
    "9. Расстояние от главной дороги (`distance`) - на главных дорогах траффик выше и, как следствие, выше риск возникновения ДТП. \n",
    "10. Тип дороги (`location_type`) - местоположеное важно учитывать при анализе риска возникновения ДТП. \n",
    "11. Категория нарушения (`pcf_violation_category`).\n",
    "12. Тип аварии (`type_of_collision`). \n",
    "13. Дорожное состояние (`road_condition_1`) - состояние дорожного покрытия может влиять на риск возникновения ДТП. \n",
    "14. Устройство управления (`control_device`) - техническое состояние ТС необходимо учитывать.\n",
    "15. Виновность участника (`at_fault`) - целевой параметр. \n",
    "16. Состояние участника (`party_drug_physical`) - исходя из постороенного выше графика полезно учесть это поле. \n",
    "17. Наличие телефона в автомобиле (`cellphone_in_use`) - отсутствие безпроводной связи отвлекает водителя от управления ТС и повышает риск возникновения ДТП. \n",
    "18. Возраст автомобиля (`vehicle_age`) - чем старше ТС, тем выше риск наличия или возникновения неисправностей. "
   ]
  },
  {
   "cell_type": "code",
   "execution_count": null,
   "id": "667adffd",
   "metadata": {},
   "outputs": [],
   "source": [
    "query = '''\n",
    "SELECT col.case_id,\n",
    "       DATE_PART('month', collision_date) AS collision_date,\n",
    "       DATE_PART('hour', collision_time) AS collision_time,\n",
    "       intersection,\n",
    "       weather_1 AS weather,\n",
    "       primary_collision_factor,\n",
    "       road_surface,\n",
    "       lighting,\n",
    "       county_city_location,\n",
    "       distance,\n",
    "       location_type,\n",
    "       pcf_violation_category,\n",
    "       type_of_collision,\n",
    "       road_condition_1 AS road_condition,\n",
    "       control_device,\n",
    "       at_fault,\n",
    "       party_drug_physical,\n",
    "       cellphone_in_use,\n",
    "       vehicle_age\n",
    "FROM collisions AS col\n",
    "INNER JOIN parties AS par ON col.case_id = par.case_id\n",
    "INNER JOIN vehicles AS veh ON col.case_id = veh.case_id\n",
    "WHERE party_type = 'car'\n",
    "      AND collision_damage <> 'scratch'\n",
    "      AND DATE_PART('year', collision_date) = 2012\n",
    "'''\n",
    "\n",
    "df_initial = pd.read_sql_query(query, con=engine) \n",
    "\n",
    "df_initial"
   ]
  },
  {
   "cell_type": "code",
   "execution_count": null,
   "id": "da221175",
   "metadata": {},
   "outputs": [],
   "source": [
    "info = introduction_to_data(df_initial)\n",
    "\n",
    "info"
   ]
  },
  {
   "cell_type": "markdown",
   "id": "83ba8f9c",
   "metadata": {},
   "source": [
    "### Работа с пропусками"
   ]
  },
  {
   "cell_type": "markdown",
   "id": "30fe709b",
   "metadata": {},
   "source": [
    "Для полей `collision_time`, `intersection`, `weather`, `primary_collision_factor`, `road_surface`, `lighting`, `pcf_violation_category`, `type_of_collision`, `road_condition`, `control_device` суммарная доля пропусков составляет 4,42% - удалим эти пропуски из датасета. "
   ]
  },
  {
   "cell_type": "code",
   "execution_count": null,
   "id": "6cac5cf4",
   "metadata": {},
   "outputs": [],
   "source": [
    "df_initial = df_initial.dropna(\n",
    "    subset=[\n",
    "        'collision_time',\n",
    "        'intersection',\n",
    "        'weather',\n",
    "        'primary_collision_factor',\n",
    "        'road_surface',\n",
    "        'lighting',\n",
    "        'pcf_violation_category',\n",
    "        'type_of_collision',\n",
    "        'road_condition',\n",
    "        'control_device'\n",
    "    ]\n",
    "    )"
   ]
  },
  {
   "cell_type": "markdown",
   "id": "d9396298",
   "metadata": {},
   "source": [
    "В остальных полях доля пропусков слишком велика, чтобы их можно было просто удалить.\n",
    "\n",
    "1 . В полях `location_type` и `party_drug_physical` пропуски поместим в отдельную категорию \"Unknown\" и \"G\" соответственно.\n",
    "2 . В поле `cellphone_in_use` поставим 0 - примем, что автомобиль по умолчанию не оборудован системой беспроводной связи.\n",
    "3 . В поле `vehicle_age` заменим пропуски на медианное значение."
   ]
  },
  {
   "cell_type": "code",
   "execution_count": null,
   "id": "e57939a7",
   "metadata": {},
   "outputs": [],
   "source": [
    "df_initial['location_type'] = df_initial['location_type'].fillna('unknown')\n",
    "df_initial['party_drug_physical'] = df_initial['party_drug_physical'].fillna('G')\n",
    "df_initial['cellphone_in_use'] = df_initial['cellphone_in_use'].fillna(0)\n",
    "df_initial['vehicle_age'] = df_initial['vehicle_age'].fillna(df_initial['vehicle_age'].median())"
   ]
  },
  {
   "cell_type": "code",
   "execution_count": null,
   "id": "378be0fa",
   "metadata": {},
   "outputs": [],
   "source": [
    "info = introduction_to_data(df_initial)\n",
    "\n",
    "info"
   ]
  },
  {
   "cell_type": "markdown",
   "id": "05455be6",
   "metadata": {},
   "source": [
    "### Поиск дубликатов"
   ]
  },
  {
   "cell_type": "markdown",
   "id": "5215a921",
   "metadata": {},
   "source": [
    "Проверим, содержатся ли в полях с категориальными признаками дубли"
   ]
  },
  {
   "cell_type": "code",
   "execution_count": null,
   "id": "08db4375",
   "metadata": {},
   "outputs": [],
   "source": [
    "cat_columns = ['weather',\n",
    "               'primary_collision_factor',\n",
    "               'road_surface',\n",
    "               'lighting',\n",
    "               'location_type',\n",
    "               'pcf_violation_category',\n",
    "               'type_of_collision',\n",
    "               'road_condition',\n",
    "               'control_device',\n",
    "               'party_drug_physical'\n",
    "              ]\n",
    "\n",
    "for i in cat_columns:\n",
    "    print(f'Поле {i}')\n",
    "    print(df_initial[i].unique())\n",
    "    print()"
   ]
  },
  {
   "cell_type": "markdown",
   "id": "43174b7c",
   "metadata": {},
   "source": [
    "Неявных дубликатов не обнаружено.\n",
    "\n",
    "Проверим, не попали ли в таблицу явные дубликаты. "
   ]
  },
  {
   "cell_type": "code",
   "execution_count": null,
   "id": "5acf6a49",
   "metadata": {},
   "outputs": [],
   "source": [
    "print(len(df_initial))\n",
    "\n",
    "df_initial = df_initial.drop_duplicates()\n",
    "\n",
    "print(len(df_initial))"
   ]
  },
  {
   "cell_type": "markdown",
   "id": "2deee0c8",
   "metadata": {},
   "source": [
    "<b> Как мы видим, в датасете были явные дубликаты. </b>"
   ]
  },
  {
   "cell_type": "markdown",
   "id": "ef3dddc0",
   "metadata": {},
   "source": [
    "После удаления явных дубликатов поле с id каждого случая также удалим из датасета"
   ]
  },
  {
   "cell_type": "code",
   "execution_count": null,
   "id": "67910e4c",
   "metadata": {},
   "outputs": [],
   "source": [
    "df_initial = df_initial.drop('case_id', axis=1)"
   ]
  },
  {
   "cell_type": "markdown",
   "id": "dc3b84ca",
   "metadata": {},
   "source": [
    "### Поиск выбросов"
   ]
  },
  {
   "cell_type": "code",
   "execution_count": null,
   "id": "d3fc98b6",
   "metadata": {},
   "outputs": [],
   "source": [
    "def outliers(df, column):\n",
    "    initial_df = df\n",
    "    Q1 = df[column].quantile(0.25)\n",
    "    Q3 = df[column].quantile(0.75)\n",
    "    IQR = Q3 - Q1\n",
    "    \n",
    "    upper = Q3+1.5*IQR\n",
    "    lower = Q1-1.5*IQR\n",
    "    \n",
    "    new_df = df.loc[(df[column] < lower) | (df[column] > upper)]\n",
    "    \n",
    "    initial = len(initial_df)\n",
    "    new = len(new_df)\n",
    "    ratio = (new/initial)*100\n",
    "    \n",
    "    maximum = df[column].max()\n",
    "    minimum = df[column].min()\n",
    "    \n",
    "    print(\n",
    "        \"Столбец {}\\nМаксимальное значение = {:.0f},\\nМинимальное значение = {:.0f},\\n\"\\\n",
    "        \"25-й квантиль = {:.0f},\\n75-й квантиль = {:.0f},\\n\"\\\n",
    "        \"Верхняя граница = {:.0f},\\nНижняя граница = {:.0f},\\nКоличество строк в исходном датасете = {:.0f},\\n\"\\\n",
    "        \"Количество выбросов = {:.0f},\\nДоля выбросов = {:.3f}\\n\".format(column,maximum,minimum,Q1,Q3,upper,lower,initial, new, ratio)\n",
    "    )"
   ]
  },
  {
   "cell_type": "code",
   "execution_count": null,
   "id": "ce0eb5af",
   "metadata": {},
   "outputs": [],
   "source": [
    "for i in ['distance','vehicle_age']:\n",
    "    outliers(df_initial, i)"
   ]
  },
  {
   "cell_type": "markdown",
   "id": "96e653f2",
   "metadata": {},
   "source": [
    "Как мы видим, в полях `distance` и `vehicle_age` присутствуют выбросы, при этом:\n",
    "1. В поле `distance` доля выбросов составляет 12% от всего датасета, не будем удалять такой объем датасета. \n",
    "2. В поле `vehicle_age` доля выбросов составляет 0.64% - выбросы можно удалить без вреда для остального датасета. "
   ]
  },
  {
   "cell_type": "code",
   "execution_count": null,
   "id": "8d11f0d5",
   "metadata": {},
   "outputs": [],
   "source": [
    "df_initial = df_initial.query('vehicle_age <= 13')\n",
    "df_initial = df_initial.reset_index()"
   ]
  },
  {
   "cell_type": "markdown",
   "id": "3f489f5e",
   "metadata": {},
   "source": [
    "### Статистический анализ данных"
   ]
  },
  {
   "cell_type": "markdown",
   "id": "a1f05fc9",
   "metadata": {},
   "source": [
    "Рассмотрим распределение ДТП по каждому из категориальных признаков"
   ]
  },
  {
   "cell_type": "code",
   "execution_count": null,
   "id": "b6addcc7",
   "metadata": {},
   "outputs": [],
   "source": [
    "cat_columns = ['weather',\n",
    "               'primary_collision_factor',\n",
    "               'road_surface',\n",
    "               'lighting',\n",
    "               'location_type',\n",
    "               'pcf_violation_category',\n",
    "               'road_condition',\n",
    "               'type_of_collision'\n",
    "              ]\n",
    "\n",
    "for i in cat_columns:\n",
    "    fig = px.histogram(df_initial, x=i)\n",
    "\n",
    "    fig.update_layout(title=\"Quantity of accidents\",\n",
    "                        xaxis_title=i,\n",
    "                        yaxis_title=\"Quantity, u\",\n",
    "                       )\n",
    "\n",
    "    fig.show()"
   ]
  },
  {
   "cell_type": "markdown",
   "id": "5673f635",
   "metadata": {},
   "source": [
    "Исходя из анализа данных можно сделать следующие выводы:\n",
    "1. По графику количества ДТП в зависимости от погоды основная часть ДТП произошла <b>в ясную погоду</b>. \n",
    "2. По графику количества ДТП в зависимости от состояния проезжей части основная часть ДТП произошла <b>на сухом покрытии</b>.\n",
    "3. По графику количества ДТП в зависимости от освещенности основная часть ДТП произошла <b>в светлое время суток</b>.\n",
    "4. По графику количества ДТП в зависимости от местоположения для значительной части ДТП <b>местоположение неизвестно</b>.\n",
    "5. По графику количества ДТП в зависимости от состояния дорожной одежды основная часть ДТП произошла <b>на участках без дефектов/препятствий</b>.\n",
    "\n",
    "<b>При этом видно, что</b>:\n",
    "1. Большая часть ДТП произошла из-за нарушения ПДД. \n",
    "2. Среди нарушений ПДД лидирует категория \"Нарушение скоростного режима\". "
   ]
  },
  {
   "cell_type": "markdown",
   "id": "cc9fcd84",
   "metadata": {},
   "source": [
    "### Подготовка данных для моделей"
   ]
  },
  {
   "cell_type": "code",
   "execution_count": null,
   "id": "9a75fa7f",
   "metadata": {},
   "outputs": [],
   "source": [
    "target = df_initial['at_fault']\n",
    "features = df_initial.drop('at_fault', axis=1)"
   ]
  },
  {
   "cell_type": "code",
   "execution_count": null,
   "id": "d7bce874",
   "metadata": {},
   "outputs": [],
   "source": [
    "features_train, features_valid, target_train, target_valid = train_test_split(\n",
    "    features, \n",
    "    target, \n",
    "    test_size=0.4, \n",
    "    random_state=42,                          \n",
    "    shuffle=True\n",
    ")\n",
    "\n",
    "features_valid, features_test, target_valid, target_test = train_test_split(\n",
    "    features_valid, \n",
    "    target_valid, \n",
    "    test_size=0.4, \n",
    "    random_state=42,                          \n",
    "    shuffle=True\n",
    ")\n",
    "\n",
    "num = ['distance','vehicle_age']\n",
    "\n",
    "cat = ['weather',\n",
    "       'primary_collision_factor',\n",
    "       'road_surface',\n",
    "       'lighting',\n",
    "       'location_type',\n",
    "       'pcf_violation_category',\n",
    "       'type_of_collision',\n",
    "       'road_condition',\n",
    "       'control_device',\n",
    "       'party_drug_physical',\n",
    "       'intersection',\n",
    "       'control_device'\n",
    "      ]    \n",
    "\n",
    "\n",
    "col_transformer = ColumnTransformer(\n",
    "                    transformers=[\n",
    "                        ('ss', StandardScaler(), num),\n",
    "                        ('ohe', OneHotEncoder(drop='first', sparse=False), cat)\n",
    "                    ],\n",
    "                    remainder='drop',\n",
    "                    n_jobs=-1\n",
    "                    )"
   ]
  },
  {
   "cell_type": "code",
   "execution_count": null,
   "id": "97694ac5",
   "metadata": {},
   "outputs": [],
   "source": [
    "features_train = col_transformer.fit_transform(features_train)\n",
    "features_valid = col_transformer.transform(features_valid)  \n",
    "features_test = col_transformer.transform(features_test)  "
   ]
  },
  {
   "cell_type": "code",
   "execution_count": null,
   "id": "289214cd",
   "metadata": {},
   "outputs": [],
   "source": [
    "features_train_t = torch.FloatTensor(features_train)\n",
    "features_valid_t = torch.FloatTensor(features_valid)\n",
    "features_test_t = torch.FloatTensor(features_test)\n",
    "target_train_t = torch.FloatTensor(target_train.values)\n",
    "target_valid_t = torch.FloatTensor(target_valid.values)\n",
    "target_test_t = torch.FloatTensor(target_test.values)"
   ]
  },
  {
   "cell_type": "markdown",
   "id": "ccd1becd",
   "metadata": {},
   "source": [
    "## Создание моделей для оценки водительского риска"
   ]
  },
  {
   "cell_type": "markdown",
   "id": "9ae18cfc",
   "metadata": {},
   "source": [
    "Исходя требований заказчика, в ходе выполнения исследования будет решаться задача <b>бинарной классификации</b>.\n",
    "\n",
    "При этом важно выявлять не только тех пользователей, кто потенциально может попасть в ДТП, но и минимизировать количество <b>ложноотрицательных ответов</b>. Можно было бы принять <b>полноту</b>, однако более информативной была бы метрика <b>ROC-AUC</b>.\n",
    "\n",
    "Для исследования возьмем следующие модели:\n",
    "1. Случайный лес.\n",
    "2. Градиентный бустинг (CatBoost).\n",
    "3. Нейросеть."
   ]
  },
  {
   "cell_type": "markdown",
   "id": "15f545b1",
   "metadata": {},
   "source": [
    "### Случайный лес"
   ]
  },
  {
   "cell_type": "code",
   "execution_count": null,
   "id": "6d150e85",
   "metadata": {},
   "outputs": [],
   "source": [
    "def objective(trial):\n",
    "\n",
    "    parameters = {\n",
    "        'max_depth':trial.suggest_int('max_depth', 1, 100),\n",
    "        'n_estimators':trial.suggest_int('n_estimators', 100, 1000),\n",
    "        'max_features':trial.suggest_int('max_features', 1, 10),\n",
    "        'min_samples_leaf':trial.suggest_int('min_samples_leaf', 2, 5),\n",
    "        'min_samples_split':trial.suggest_int('min_samples_split', 2, 5)\n",
    "    }\n",
    "\n",
    "    model = RandomForestClassifier(**parameters)\n",
    "    model.fit(features_train, target_train)\n",
    "    predictions = model.predict_proba(features_valid)\n",
    "\n",
    "    metric = roc_auc_score(target_valid, predictions[:, 1])\n",
    "\n",
    "    return metric"
   ]
  },
  {
   "cell_type": "code",
   "execution_count": null,
   "id": "e63a7d41",
   "metadata": {},
   "outputs": [],
   "source": [
    "study = optuna.create_study(direction='maximize')\n",
    "study.optimize(objective, n_trials=20)\n",
    "\n",
    "print('Number of finished trials:', len(study.trials))\n",
    "print('Best trial:', study.best_trial.params)\n",
    "print('Best score:', study.best_trial.value)\n",
    "\n",
    "forest = study.best_trial.value"
   ]
  },
  {
   "cell_type": "markdown",
   "id": "80450506",
   "metadata": {},
   "source": [
    "### Градиентный бустинг"
   ]
  },
  {
   "cell_type": "code",
   "execution_count": null,
   "id": "33b85ba7",
   "metadata": {},
   "outputs": [],
   "source": [
    "target_cat = df_initial['at_fault']\n",
    "features_cat = df_initial.drop('at_fault', axis=1)"
   ]
  },
  {
   "cell_type": "code",
   "execution_count": null,
   "id": "a7223159",
   "metadata": {},
   "outputs": [],
   "source": [
    "features_train_cat, features_valid_cat, target_train_cat, target_valid_cat = train_test_split(\n",
    "    features_cat, \n",
    "    target_cat, \n",
    "    test_size=0.4, \n",
    "    random_state=42,                          \n",
    "    shuffle=True\n",
    ")\n",
    "\n",
    "features_valid_cat, features_test_cat, target_valid_cat, target_test_cat = train_test_split(\n",
    "    features_valid_cat, \n",
    "    target_valid_cat, \n",
    "    test_size=0.4, \n",
    "    random_state=42,                          \n",
    "    shuffle=True\n",
    ")"
   ]
  },
  {
   "cell_type": "code",
   "execution_count": null,
   "id": "5f1a3fa7",
   "metadata": {},
   "outputs": [],
   "source": [
    "cat_features = [4,5,6,7,10,11,12,13,14,15]"
   ]
  },
  {
   "cell_type": "code",
   "execution_count": null,
   "id": "51f0c780",
   "metadata": {},
   "outputs": [],
   "source": [
    "def objective(trial):\n",
    "\n",
    "    parameters = {\n",
    "        'iterations':trial.suggest_int('iterations', 1, 1000),\n",
    "        'random_seed':trial.suggest_int('random_seed', 1, 1000),\n",
    "        'learning_rate':trial.suggest_loguniform('learning_rate',0.1, 0.5),\n",
    "        'verbose': trial.suggest_categorical('verbose',[False])\n",
    "    }\n",
    "\n",
    "    model = CatBoostClassifier(**parameters)\n",
    "    model.fit(features_train_cat, target_train_cat, cat_features=cat_features)\n",
    "    predictions = model.predict_proba(features_valid_cat)\n",
    "\n",
    "    metric = roc_auc_score(target_valid, predictions[:, 1])\n",
    "\n",
    "    return metric"
   ]
  },
  {
   "cell_type": "code",
   "execution_count": null,
   "id": "c5581a7b",
   "metadata": {},
   "outputs": [],
   "source": [
    "study = optuna.create_study(direction='maximize')\n",
    "study.optimize(objective, n_trials=20)\n",
    "\n",
    "print('Number of finished trials:', len(study.trials))\n",
    "print('Best trial:', study.best_trial.params)\n",
    "print('Best score:', study.best_trial.value)\n",
    "\n",
    "catboost = study.best_trial.value"
   ]
  },
  {
   "cell_type": "markdown",
   "id": "bdbc8a23",
   "metadata": {},
   "source": [
    "### Нейросеть"
   ]
  },
  {
   "cell_type": "code",
   "execution_count": null,
   "id": "77b4b1e0",
   "metadata": {},
   "outputs": [],
   "source": [
    "n_in_neurons = 67\n",
    "n_hidden_neurons_1 = 100\n",
    "n_hidden_neurons_2 = 100\n",
    "n_hidden_neurons_3 = 100\n",
    "n_out_neurons = 1"
   ]
  },
  {
   "cell_type": "code",
   "execution_count": null,
   "id": "ad8cdeb5",
   "metadata": {},
   "outputs": [],
   "source": [
    "net = nn.Sequential(\n",
    "    nn.Linear(n_in_neurons, n_hidden_neurons_1),\n",
    "    nn.ReLU(),\n",
    "    nn.Linear(n_hidden_neurons_1, n_hidden_neurons_2),\n",
    "    nn.ReLU(),\n",
    "    nn.Linear(n_hidden_neurons_2, n_hidden_neurons_3),\n",
    "    nn.ReLU(),\n",
    "    nn.Linear(n_hidden_neurons_3, n_out_neurons),\n",
    "    nn.Sigmoid()\n",
    ")\n",
    "\n",
    "optimizer = torch.optim.SGD(net.parameters(), lr=1.0e-3)\n",
    "\n",
    "loss = nn.BCELoss()\n",
    "\n",
    "num_epochs = 1000\n",
    "\n",
    "for epoch in range(num_epochs):\n",
    "    net.train()\n",
    "    optimizer.zero_grad()\n",
    "    \n",
    "    preds = net(features_train_t).flatten()\n",
    "    \n",
    "    loss_value = loss(preds, target_train_t)\n",
    "    loss_value.backward()\n",
    "    optimizer.step()\n",
    "    \n",
    "    if epoch % 100 == 0 or epoch == max(range(num_epochs)):\n",
    "        with torch.no_grad():\n",
    "            net.eval()\n",
    "            test_preds = net(features_valid_t).flatten()\n",
    "            loss_bce = loss(test_preds, target_valid_t)\n",
    "            test_preds_i = test_preds.int()\n",
    "            metric = roc_auc_score(target_valid_t.int(), test_preds_i)\n",
    "            print(loss_bce, metric)"
   ]
  },
  {
   "cell_type": "markdown",
   "id": "e32bb0b6",
   "metadata": {},
   "source": [
    "### Batch Normalization"
   ]
  },
  {
   "cell_type": "code",
   "execution_count": null,
   "id": "82f36cb7",
   "metadata": {},
   "outputs": [],
   "source": [
    "net_b = nn.Sequential(\n",
    "    nn.Linear(n_in_neurons, n_hidden_neurons_1),\n",
    "    nn.ReLU(),\n",
    "    nn.BatchNorm1d(n_hidden_neurons_1),\n",
    "    nn.Linear(n_hidden_neurons_1, n_hidden_neurons_2),\n",
    "    nn.ReLU(),\n",
    "    nn.BatchNorm1d(n_hidden_neurons_2),\n",
    "    nn.Linear(n_hidden_neurons_2, n_hidden_neurons_3),\n",
    "    nn.ReLU(),\n",
    "    nn.BatchNorm1d(n_hidden_neurons_3),\n",
    "    nn.Linear(n_hidden_neurons_3, n_out_neurons),\n",
    "    nn.Sigmoid()\n",
    ")\n",
    "\n",
    "optimizer = torch.optim.SGD(net_b.parameters(), lr=1.0e-3)\n",
    "\n",
    "loss = nn.BCELoss()\n",
    "\n",
    "num_epochs = 1000\n",
    "\n",
    "for epoch in range(num_epochs):\n",
    "    net_b.train()\n",
    "    optimizer.zero_grad()\n",
    "    \n",
    "    preds_b = net_b(features_train_t).flatten()\n",
    "    \n",
    "    loss_value = loss(preds_b, target_train_t)\n",
    "    loss_value.backward()\n",
    "    optimizer.step()\n",
    "    \n",
    "    if epoch % 100 == 0 or epoch == max(range(num_epochs)):\n",
    "        with torch.no_grad():\n",
    "            net.eval()\n",
    "            test_preds_b = net_b(features_valid_t).flatten()\n",
    "            loss_bce_b = loss(test_preds_b, target_valid_t)\n",
    "            test_preds_i_b = test_preds_b.int()\n",
    "            metric_b = roc_auc_score(target_valid_t.int(), test_preds_i_b)\n",
    "            print(loss_bce_b, metric_b)"
   ]
  },
  {
   "cell_type": "markdown",
   "id": "7d9ed89b",
   "metadata": {},
   "source": [
    "### Сравнение результатов предсказаний моделей по ключевой метрике"
   ]
  },
  {
   "cell_type": "code",
   "execution_count": null,
   "id": "121b9c07",
   "metadata": {},
   "outputs": [],
   "source": [
    "fig = ff.create_annotated_heatmap(\n",
    "        z=[[float(\"{:.3f}\".format(forest)), float(\"{:.3f}\".format(catboost)), float(\"{:.3f}\".format(metric_b))]],\n",
    "        x=['Random Forest','CatBoost', 'Neural Network'],\n",
    "        y=['Optuna'],       \n",
    "        colorscale='ylgnbu',\n",
    "        colorbar_thickness=30,\n",
    "        colorbar_ticklen=3\n",
    "    )\n",
    "fig.update_layout(title_text='<b>ROC-AUC Value<b>',\n",
    "                    title_x=0.5,\n",
    "                    titlefont={'size': 24},\n",
    "                    width=600, height=450,\n",
    "                    xaxis_showgrid=False,\n",
    "                    xaxis={\n",
    "                        'title': 'Models',\n",
    "                        'side': 'bottom'\n",
    "                        },\n",
    "                    yaxis_showgrid=False,\n",
    "                    yaxis={\n",
    "                        'title': 'Hyper parameter tuning',\n",
    "                        'side': 'bottom'\n",
    "                        },\n",
    "                    yaxis_autorange='reversed',                   \n",
    "                    paper_bgcolor=None,\n",
    "    )\n",
    "\n",
    "fig.show()"
   ]
  },
  {
   "cell_type": "markdown",
   "id": "0904aea1",
   "metadata": {},
   "source": [
    "Как мы видим, наибольшее значение метрики `ROC-AUC` получено при использовании модели \"CatBoost\". "
   ]
  },
  {
   "cell_type": "markdown",
   "id": "16b8fe13",
   "metadata": {},
   "source": [
    "### Получение предсказаний на тестовой выборке"
   ]
  },
  {
   "cell_type": "code",
   "execution_count": null,
   "id": "58077f8b",
   "metadata": {},
   "outputs": [],
   "source": [
    "model = CatBoostClassifier(\n",
    "    iterations=43,\n",
    "    random_seed=45,\n",
    "    learning_rate=0.18549429158819739,\n",
    "    verbose=False,\n",
    "    custom_loss='AUC'\n",
    ")\n",
    "\n",
    "model.fit(\n",
    "    features_train_cat, target_train_cat,\n",
    "    cat_features=cat_features,\n",
    "    eval_set=(features_valid_cat, target_valid_cat),\n",
    "    verbose=False,\n",
    "    plot=True\n",
    ")"
   ]
  },
  {
   "cell_type": "code",
   "execution_count": null,
   "id": "45e61c10",
   "metadata": {},
   "outputs": [],
   "source": [
    "cat_preds = model.predict_proba(features_test_cat)\n",
    "prob_1 = cat_preds[:, 1]\n",
    "\n",
    "predictions = []\n",
    "\n",
    "for i in range(len(features_test_cat)):\n",
    "    if prob_1[i] >= 0.5:\n",
    "        pred = 1\n",
    "    else:\n",
    "        pred = 0\n",
    "    predictions.append(pred)\n",
    "\n",
    "report = classification_report(target_test_cat, predictions, target_names=['Low risk of Accident', 'High risk of Accident'])\n",
    "print(report)"
   ]
  },
  {
   "cell_type": "code",
   "execution_count": null,
   "id": "192bb39a",
   "metadata": {},
   "outputs": [],
   "source": [
    "conf_m = confusion_matrix(target_test_cat, predictions)\n",
    "\n",
    "fig = ff.create_annotated_heatmap(\n",
    "        z=conf_m,\n",
    "        x=['Low risk of Accident', 'High risk of Accident'],\n",
    "        y=['Low risk of Accident', 'High risk of Accident'],       \n",
    "        colorscale='ylgnbu',\n",
    "        colorbar_thickness=30,\n",
    "        colorbar_ticklen=3,\n",
    "    )\n",
    "fig.update_layout(title_text='<b>Confusion matrix<b>',\n",
    "                    title_x=0.5,\n",
    "                    titlefont={'size': 24},\n",
    "                    width=600, height=550,\n",
    "                    xaxis_showgrid=False,\n",
    "                    xaxis={\n",
    "                        'title': 'Predicted values',\n",
    "                        'side': 'bottom'\n",
    "                        },\n",
    "                    yaxis_showgrid=False,\n",
    "                    yaxis={\n",
    "                        'title': 'True values',\n",
    "                        'side': 'bottom'\n",
    "                        },\n",
    "                    yaxis_autorange='reversed',                   \n",
    "                    paper_bgcolor=None,\n",
    "    )\n",
    "\n",
    "fig.show()"
   ]
  },
  {
   "cell_type": "markdown",
   "id": "4e3fbb62",
   "metadata": {},
   "source": [
    "<b>По результатам тестирования модели получилось выявлять порядка 63% потенциальных нарушителей.</b>"
   ]
  },
  {
   "cell_type": "markdown",
   "id": "0a3a91f7",
   "metadata": {},
   "source": [
    "## Анализ важности факторов ДТП"
   ]
  },
  {
   "cell_type": "code",
   "execution_count": null,
   "id": "0549d7c4",
   "metadata": {},
   "outputs": [],
   "source": [
    "importances = pd.DataFrame(model.feature_importances_,\n",
    "                         features_test_cat.columns)"
   ]
  },
  {
   "cell_type": "code",
   "execution_count": null,
   "id": "d992fabf",
   "metadata": {},
   "outputs": [],
   "source": [
    "fig_feat = px.bar(\n",
    "    importances,\n",
    "    x=importances[0],\n",
    "    )\n",
    "\n",
    "fig_feat.update_layout(barmode='stack', yaxis={'categoryorder':'total ascending'})\n",
    "fig_feat.update_xaxes(title_text='Importance')\n",
    "fig_feat.update_yaxes(title_text='Feature')\n",
    "fig_feat.update_layout(title_text='Features importance')\n",
    "fig_feat.update_traces(marker_color='rgb(0, 200, 200)', opacity=0.6)\n",
    "\n",
    "fig_feat.show()"
   ]
  },
  {
   "cell_type": "markdown",
   "id": "a756077e",
   "metadata": {},
   "source": [
    "Как мы видим, 3 наиболее важными факторами являются `type_of_collision`, `pcf_violation_category` и `primary_collision_factor` . Выведем их графики еще раз."
   ]
  },
  {
   "cell_type": "code",
   "execution_count": null,
   "id": "97932ee5",
   "metadata": {},
   "outputs": [],
   "source": [
    "cat_columns = ['primary_collision_factor',\n",
    "               'pcf_violation_category',\n",
    "               'type_of_collision'\n",
    "              ]\n",
    "\n",
    "for i in cat_columns:\n",
    "    fig = px.histogram(df_initial, x=i)\n",
    "\n",
    "    fig.update_layout(title=\"Quantity of accidents\",\n",
    "                        xaxis_title=i,\n",
    "                        yaxis_title=\"Quantity, u\",\n",
    "                       )\n",
    "\n",
    "    fig.show()"
   ]
  },
  {
   "cell_type": "markdown",
   "id": "07df4784",
   "metadata": {},
   "source": [
    "Исходя из представленных данных можно сделать следующий вывод: <b>основной причиной ДТП является нарушений правил дорожного движения, среди которых наиболее часто встречается нарушение скоростного режима.</b>\n",
    "\n",
    "Как следствие, на графике с типом столкновений встречается большое число ДТП, в которых один автомобиль въехал в другой сзади или сбоку.\n",
    "\n",
    "<b>Таким образом, в качестве основной рекомендации следует обратить внимание те участки, где ДТП из-за превышения скоростного режима встречаются чаще (возможно, вести отдельный учет таких участков, либо сразу учитывать, что при движении на скоростных дорогах и магистралях риск таких ДТП в среднем выше). Кроме того, можно вести контроль манеры вождения пользователей и, если они часто превышают скорость, вносить их в категорию водителей, которые потенциально могут устроить ДТП на дороге.</b>"
   ]
  }
 ],
 "metadata": {
  "ExecuteTimeLog": [
   {
    "duration": 1345,
    "start_time": "2023-04-04T16:50:37.672Z"
   },
   {
    "duration": 4,
    "start_time": "2023-04-04T16:50:41.586Z"
   },
   {
    "duration": 8104,
    "start_time": "2023-04-04T16:50:45.533Z"
   },
   {
    "duration": 84,
    "start_time": "2023-04-04T16:50:57.156Z"
   },
   {
    "duration": 21,
    "start_time": "2023-04-04T16:51:00.712Z"
   },
   {
    "duration": 1344,
    "start_time": "2023-04-08T10:33:10.167Z"
   },
   {
    "duration": 3,
    "start_time": "2023-04-08T10:33:11.513Z"
   },
   {
    "duration": 6996,
    "start_time": "2023-04-08T10:33:11.518Z"
   },
   {
    "duration": 213,
    "start_time": "2023-04-08T10:33:18.516Z"
   },
   {
    "duration": 22,
    "start_time": "2023-04-08T10:33:18.731Z"
   },
   {
    "duration": 36,
    "start_time": "2023-04-08T10:34:26.872Z"
   },
   {
    "duration": 10,
    "start_time": "2023-04-08T10:34:28.859Z"
   },
   {
    "duration": 15,
    "start_time": "2023-04-08T10:34:33.596Z"
   },
   {
    "duration": 49,
    "start_time": "2023-04-08T10:34:50.097Z"
   },
   {
    "duration": 15811,
    "start_time": "2023-04-08T10:35:11.339Z"
   },
   {
    "duration": 3408,
    "start_time": "2023-04-08T10:38:33.018Z"
   },
   {
    "duration": 1185,
    "start_time": "2023-04-08T10:39:36.548Z"
   },
   {
    "duration": 4,
    "start_time": "2023-04-08T10:39:37.735Z"
   },
   {
    "duration": 11474,
    "start_time": "2023-04-08T10:39:37.740Z"
   },
   {
    "duration": 16537,
    "start_time": "2023-04-08T10:39:49.216Z"
   },
   {
    "duration": 3389,
    "start_time": "2023-04-08T10:40:05.755Z"
   },
   {
    "duration": 48,
    "start_time": "2023-04-08T10:40:25.098Z"
   },
   {
    "duration": 1188,
    "start_time": "2023-04-08T10:40:31.946Z"
   },
   {
    "duration": 3,
    "start_time": "2023-04-08T10:40:33.136Z"
   },
   {
    "duration": 11772,
    "start_time": "2023-04-08T10:40:33.140Z"
   },
   {
    "duration": 16867,
    "start_time": "2023-04-08T10:40:44.914Z"
   },
   {
    "duration": 3468,
    "start_time": "2023-04-08T10:41:01.783Z"
   },
   {
    "duration": 1317,
    "start_time": "2023-04-08T10:44:12.728Z"
   },
   {
    "duration": 4,
    "start_time": "2023-04-08T10:44:14.046Z"
   },
   {
    "duration": 7884,
    "start_time": "2023-04-08T10:44:14.051Z"
   },
   {
    "duration": 16685,
    "start_time": "2023-04-08T10:44:21.937Z"
   },
   {
    "duration": 3411,
    "start_time": "2023-04-08T10:44:38.624Z"
   },
   {
    "duration": 44,
    "start_time": "2023-04-08T10:44:42.037Z"
   },
   {
    "duration": 114,
    "start_time": "2023-04-08T10:44:48.086Z"
   },
   {
    "duration": 562,
    "start_time": "2023-04-08T10:44:53.526Z"
   },
   {
    "duration": 4085,
    "start_time": "2023-04-08T10:45:04.176Z"
   },
   {
    "duration": 3968,
    "start_time": "2023-04-08T10:45:15.406Z"
   },
   {
    "duration": 52,
    "start_time": "2023-04-08T10:45:48.807Z"
   },
   {
    "duration": 1276,
    "start_time": "2023-04-08T10:45:52.664Z"
   },
   {
    "duration": 4,
    "start_time": "2023-04-08T10:45:53.942Z"
   },
   {
    "duration": 6822,
    "start_time": "2023-04-08T10:45:53.947Z"
   },
   {
    "duration": 16328,
    "start_time": "2023-04-08T10:46:00.772Z"
   },
   {
    "duration": 3554,
    "start_time": "2023-04-08T10:46:17.102Z"
   },
   {
    "duration": 6106,
    "start_time": "2023-04-08T10:46:20.658Z"
   },
   {
    "duration": 1176,
    "start_time": "2023-04-08T10:49:46.214Z"
   },
   {
    "duration": 3,
    "start_time": "2023-04-08T10:49:47.391Z"
   },
   {
    "duration": 7935,
    "start_time": "2023-04-08T10:49:47.396Z"
   },
   {
    "duration": 11158,
    "start_time": "2023-04-08T10:49:55.333Z"
   },
   {
    "duration": 1206,
    "start_time": "2023-04-08T10:52:47.524Z"
   },
   {
    "duration": 4,
    "start_time": "2023-04-08T10:52:48.732Z"
   },
   {
    "duration": 5935,
    "start_time": "2023-04-08T10:52:48.738Z"
   },
   {
    "duration": 16779,
    "start_time": "2023-04-08T10:52:54.676Z"
   },
   {
    "duration": 3449,
    "start_time": "2023-04-08T10:53:11.456Z"
   },
   {
    "duration": 1188,
    "start_time": "2023-04-08T10:55:54.138Z"
   },
   {
    "duration": 8,
    "start_time": "2023-04-08T10:55:55.328Z"
   },
   {
    "duration": 6861,
    "start_time": "2023-04-08T10:55:55.338Z"
   },
   {
    "duration": 6006,
    "start_time": "2023-04-08T10:56:02.201Z"
   },
   {
    "duration": 0,
    "start_time": "2023-04-08T10:56:08.209Z"
   },
   {
    "duration": 0,
    "start_time": "2023-04-08T10:56:08.210Z"
   },
   {
    "duration": 1242,
    "start_time": "2023-04-08T10:56:44.910Z"
   },
   {
    "duration": 3,
    "start_time": "2023-04-08T10:56:46.154Z"
   },
   {
    "duration": 6508,
    "start_time": "2023-04-08T10:56:46.159Z"
   },
   {
    "duration": 17090,
    "start_time": "2023-04-08T10:56:52.668Z"
   },
   {
    "duration": 3,
    "start_time": "2023-04-08T10:57:09.760Z"
   },
   {
    "duration": 3527,
    "start_time": "2023-04-08T10:57:09.764Z"
   },
   {
    "duration": 3,
    "start_time": "2023-04-08T10:57:13.293Z"
   },
   {
    "duration": 1100,
    "start_time": "2023-04-08T11:00:52.989Z"
   },
   {
    "duration": 4,
    "start_time": "2023-04-08T11:00:54.091Z"
   },
   {
    "duration": 10702,
    "start_time": "2023-04-08T11:00:54.096Z"
   },
   {
    "duration": 11134,
    "start_time": "2023-04-08T11:01:04.800Z"
   },
   {
    "duration": 3,
    "start_time": "2023-04-08T11:01:15.936Z"
   },
   {
    "duration": 15916,
    "start_time": "2023-04-08T11:01:15.940Z"
   },
   {
    "duration": 3,
    "start_time": "2023-04-08T11:01:31.857Z"
   },
   {
    "duration": 3075,
    "start_time": "2023-04-08T11:01:31.861Z"
   },
   {
    "duration": 2,
    "start_time": "2023-04-08T11:01:34.937Z"
   },
   {
    "duration": 1229,
    "start_time": "2023-04-08T11:10:42.093Z"
   },
   {
    "duration": 4,
    "start_time": "2023-04-08T11:10:43.324Z"
   },
   {
    "duration": 12380,
    "start_time": "2023-04-08T11:10:43.329Z"
   },
   {
    "duration": 6,
    "start_time": "2023-04-08T11:10:55.710Z"
   },
   {
    "duration": 11657,
    "start_time": "2023-04-08T11:10:55.717Z"
   },
   {
    "duration": 4360,
    "start_time": "2023-04-08T11:11:07.376Z"
   },
   {
    "duration": 0,
    "start_time": "2023-04-08T11:11:11.737Z"
   },
   {
    "duration": 0,
    "start_time": "2023-04-08T11:11:11.739Z"
   },
   {
    "duration": 0,
    "start_time": "2023-04-08T11:11:11.740Z"
   },
   {
    "duration": 0,
    "start_time": "2023-04-08T11:11:11.741Z"
   },
   {
    "duration": 0,
    "start_time": "2023-04-08T11:11:11.742Z"
   },
   {
    "duration": 0,
    "start_time": "2023-04-08T11:11:11.743Z"
   },
   {
    "duration": 0,
    "start_time": "2023-04-08T11:11:11.744Z"
   },
   {
    "duration": 12,
    "start_time": "2023-04-08T11:12:26.777Z"
   },
   {
    "duration": 4227,
    "start_time": "2023-04-08T11:12:52.655Z"
   },
   {
    "duration": 555,
    "start_time": "2023-04-08T11:14:23.636Z"
   },
   {
    "duration": 8,
    "start_time": "2023-04-08T11:14:34.215Z"
   },
   {
    "duration": 9,
    "start_time": "2023-04-08T11:14:42.795Z"
   },
   {
    "duration": 5,
    "start_time": "2023-04-08T11:16:40.651Z"
   },
   {
    "duration": 8,
    "start_time": "2023-04-08T11:17:04.016Z"
   },
   {
    "duration": 3419,
    "start_time": "2023-04-08T11:17:14.237Z"
   },
   {
    "duration": 4,
    "start_time": "2023-04-08T11:17:34.456Z"
   },
   {
    "duration": 2637,
    "start_time": "2023-04-08T11:17:38.824Z"
   },
   {
    "duration": 2005,
    "start_time": "2023-04-08T15:19:54.333Z"
   },
   {
    "duration": 4,
    "start_time": "2023-04-08T15:19:56.340Z"
   },
   {
    "duration": 16742,
    "start_time": "2023-04-08T15:19:56.346Z"
   },
   {
    "duration": 6,
    "start_time": "2023-04-08T15:20:13.090Z"
   },
   {
    "duration": 12970,
    "start_time": "2023-04-08T15:20:13.098Z"
   },
   {
    "duration": 4758,
    "start_time": "2023-04-08T15:20:26.070Z"
   },
   {
    "duration": 0,
    "start_time": "2023-04-08T15:20:30.829Z"
   },
   {
    "duration": 0,
    "start_time": "2023-04-08T15:20:30.831Z"
   },
   {
    "duration": 0,
    "start_time": "2023-04-08T15:20:30.832Z"
   },
   {
    "duration": 0,
    "start_time": "2023-04-08T15:20:30.833Z"
   },
   {
    "duration": 0,
    "start_time": "2023-04-08T15:20:30.841Z"
   },
   {
    "duration": 0,
    "start_time": "2023-04-08T15:20:30.843Z"
   },
   {
    "duration": 0,
    "start_time": "2023-04-08T15:20:30.844Z"
   },
   {
    "duration": 5,
    "start_time": "2023-04-08T15:21:15.237Z"
   },
   {
    "duration": 2694,
    "start_time": "2023-04-08T15:21:18.048Z"
   },
   {
    "duration": 4,
    "start_time": "2023-04-08T15:21:26.470Z"
   },
   {
    "duration": 7834,
    "start_time": "2023-04-08T15:21:28.808Z"
   },
   {
    "duration": 1626,
    "start_time": "2023-04-08T15:21:43.593Z"
   },
   {
    "duration": 4,
    "start_time": "2023-04-08T15:21:45.222Z"
   },
   {
    "duration": 11069,
    "start_time": "2023-04-08T15:21:45.228Z"
   },
   {
    "duration": 4,
    "start_time": "2023-04-08T15:21:56.300Z"
   },
   {
    "duration": 12999,
    "start_time": "2023-04-08T15:21:56.306Z"
   },
   {
    "duration": 2816,
    "start_time": "2023-04-08T15:22:09.307Z"
   },
   {
    "duration": 2,
    "start_time": "2023-04-08T15:22:12.125Z"
   },
   {
    "duration": 17807,
    "start_time": "2023-04-08T15:22:12.129Z"
   },
   {
    "duration": 15395,
    "start_time": "2023-04-08T15:22:29.938Z"
   },
   {
    "duration": 2,
    "start_time": "2023-04-08T15:22:45.342Z"
   },
   {
    "duration": 3723,
    "start_time": "2023-04-08T15:22:45.346Z"
   },
   {
    "duration": 1402,
    "start_time": "2023-04-08T15:22:49.071Z"
   },
   {
    "duration": 2,
    "start_time": "2023-04-08T15:22:50.475Z"
   },
   {
    "duration": 1668,
    "start_time": "2023-04-08T15:27:57.043Z"
   },
   {
    "duration": 3,
    "start_time": "2023-04-08T15:27:58.714Z"
   },
   {
    "duration": 7218,
    "start_time": "2023-04-08T15:27:58.719Z"
   },
   {
    "duration": 7,
    "start_time": "2023-04-08T15:28:05.940Z"
   },
   {
    "duration": 14514,
    "start_time": "2023-04-08T15:28:05.950Z"
   },
   {
    "duration": 3335,
    "start_time": "2023-04-08T15:28:20.466Z"
   },
   {
    "duration": 3,
    "start_time": "2023-04-08T15:28:23.803Z"
   },
   {
    "duration": 17926,
    "start_time": "2023-04-08T15:28:23.808Z"
   },
   {
    "duration": 17250,
    "start_time": "2023-04-08T15:28:41.736Z"
   },
   {
    "duration": 4,
    "start_time": "2023-04-08T15:28:58.990Z"
   },
   {
    "duration": 3594,
    "start_time": "2023-04-08T15:28:58.995Z"
   },
   {
    "duration": 1392,
    "start_time": "2023-04-08T15:29:02.590Z"
   },
   {
    "duration": 3,
    "start_time": "2023-04-08T15:29:03.983Z"
   },
   {
    "duration": 1693,
    "start_time": "2023-04-08T15:30:53.487Z"
   },
   {
    "duration": 5,
    "start_time": "2023-04-08T15:30:55.182Z"
   },
   {
    "duration": 6816,
    "start_time": "2023-04-08T15:30:55.189Z"
   },
   {
    "duration": 6,
    "start_time": "2023-04-08T15:31:02.007Z"
   },
   {
    "duration": 13645,
    "start_time": "2023-04-08T15:31:02.015Z"
   },
   {
    "duration": 766,
    "start_time": "2023-04-08T15:31:15.663Z"
   },
   {
    "duration": 0,
    "start_time": "2023-04-08T15:31:16.431Z"
   },
   {
    "duration": 0,
    "start_time": "2023-04-08T15:31:16.432Z"
   },
   {
    "duration": 0,
    "start_time": "2023-04-08T15:31:16.433Z"
   },
   {
    "duration": 0,
    "start_time": "2023-04-08T15:31:16.441Z"
   },
   {
    "duration": 0,
    "start_time": "2023-04-08T15:31:16.443Z"
   },
   {
    "duration": 0,
    "start_time": "2023-04-08T15:31:16.444Z"
   },
   {
    "duration": 0,
    "start_time": "2023-04-08T15:31:16.445Z"
   },
   {
    "duration": 4,
    "start_time": "2023-04-08T15:32:19.278Z"
   },
   {
    "duration": 6721,
    "start_time": "2023-04-08T15:32:23.582Z"
   },
   {
    "duration": 1682,
    "start_time": "2023-04-08T15:32:35.068Z"
   },
   {
    "duration": 4,
    "start_time": "2023-04-08T15:32:36.752Z"
   },
   {
    "duration": 7286,
    "start_time": "2023-04-08T15:32:36.757Z"
   },
   {
    "duration": 5,
    "start_time": "2023-04-08T15:32:44.045Z"
   },
   {
    "duration": 13064,
    "start_time": "2023-04-08T15:32:44.053Z"
   },
   {
    "duration": 2350,
    "start_time": "2023-04-08T15:32:57.120Z"
   },
   {
    "duration": 3,
    "start_time": "2023-04-08T15:32:59.472Z"
   },
   {
    "duration": 18163,
    "start_time": "2023-04-08T15:32:59.477Z"
   },
   {
    "duration": 12350,
    "start_time": "2023-04-08T15:33:17.642Z"
   },
   {
    "duration": 3,
    "start_time": "2023-04-08T15:33:29.994Z"
   },
   {
    "duration": 3609,
    "start_time": "2023-04-08T15:33:29.999Z"
   },
   {
    "duration": 1095,
    "start_time": "2023-04-08T15:33:33.610Z"
   },
   {
    "duration": 3,
    "start_time": "2023-04-08T15:33:34.706Z"
   },
   {
    "duration": 2511,
    "start_time": "2023-04-08T15:35:06.425Z"
   },
   {
    "duration": 4,
    "start_time": "2023-04-08T15:35:08.938Z"
   },
   {
    "duration": 20364,
    "start_time": "2023-04-08T15:35:08.943Z"
   },
   {
    "duration": 6,
    "start_time": "2023-04-08T15:35:29.309Z"
   },
   {
    "duration": 10208,
    "start_time": "2023-04-08T15:35:29.317Z"
   },
   {
    "duration": 0,
    "start_time": "2023-04-08T15:35:39.527Z"
   },
   {
    "duration": 0,
    "start_time": "2023-04-08T15:35:39.528Z"
   },
   {
    "duration": 0,
    "start_time": "2023-04-08T15:35:39.541Z"
   },
   {
    "duration": 0,
    "start_time": "2023-04-08T15:35:39.543Z"
   },
   {
    "duration": 0,
    "start_time": "2023-04-08T15:35:39.546Z"
   },
   {
    "duration": 0,
    "start_time": "2023-04-08T15:35:39.547Z"
   },
   {
    "duration": 0,
    "start_time": "2023-04-08T15:35:39.549Z"
   },
   {
    "duration": 1,
    "start_time": "2023-04-08T15:35:39.550Z"
   },
   {
    "duration": 1715,
    "start_time": "2023-04-08T15:36:30.995Z"
   },
   {
    "duration": 5,
    "start_time": "2023-04-08T15:36:32.713Z"
   },
   {
    "duration": 7783,
    "start_time": "2023-04-08T15:36:32.719Z"
   },
   {
    "duration": 5,
    "start_time": "2023-04-08T15:36:40.503Z"
   },
   {
    "duration": 13664,
    "start_time": "2023-04-08T15:36:40.510Z"
   },
   {
    "duration": 3175,
    "start_time": "2023-04-08T15:36:54.176Z"
   },
   {
    "duration": 3,
    "start_time": "2023-04-08T15:36:57.353Z"
   },
   {
    "duration": 17847,
    "start_time": "2023-04-08T15:36:57.358Z"
   },
   {
    "duration": 15146,
    "start_time": "2023-04-08T15:37:15.208Z"
   },
   {
    "duration": 3,
    "start_time": "2023-04-08T15:37:30.356Z"
   },
   {
    "duration": 3545,
    "start_time": "2023-04-08T15:37:30.361Z"
   },
   {
    "duration": 1279,
    "start_time": "2023-04-08T15:37:33.908Z"
   },
   {
    "duration": 3,
    "start_time": "2023-04-08T15:37:35.189Z"
   },
   {
    "duration": 1634,
    "start_time": "2023-04-08T15:40:28.777Z"
   },
   {
    "duration": 4,
    "start_time": "2023-04-08T15:40:30.414Z"
   },
   {
    "duration": 11238,
    "start_time": "2023-04-08T15:40:30.420Z"
   },
   {
    "duration": 4,
    "start_time": "2023-04-08T15:40:41.661Z"
   },
   {
    "duration": 13359,
    "start_time": "2023-04-08T15:40:41.668Z"
   },
   {
    "duration": 3018,
    "start_time": "2023-04-08T15:40:55.029Z"
   },
   {
    "duration": 3,
    "start_time": "2023-04-08T15:40:58.048Z"
   },
   {
    "duration": 18063,
    "start_time": "2023-04-08T15:40:58.053Z"
   },
   {
    "duration": 15474,
    "start_time": "2023-04-08T15:41:16.118Z"
   },
   {
    "duration": 3,
    "start_time": "2023-04-08T15:41:31.595Z"
   },
   {
    "duration": 3764,
    "start_time": "2023-04-08T15:41:31.600Z"
   },
   {
    "duration": 1455,
    "start_time": "2023-04-08T15:41:35.366Z"
   },
   {
    "duration": 3,
    "start_time": "2023-04-08T15:41:36.823Z"
   },
   {
    "duration": 4383,
    "start_time": "2023-04-08T15:46:33.835Z"
   },
   {
    "duration": 1231,
    "start_time": "2023-04-08T15:46:43.121Z"
   },
   {
    "duration": 3,
    "start_time": "2023-04-08T15:46:47.684Z"
   },
   {
    "duration": 250,
    "start_time": "2023-04-08T16:02:37.076Z"
   },
   {
    "duration": 351,
    "start_time": "2023-04-08T16:02:50.351Z"
   },
   {
    "duration": 120,
    "start_time": "2023-04-08T16:03:12.552Z"
   },
   {
    "duration": 1316,
    "start_time": "2023-04-08T16:03:52.461Z"
   },
   {
    "duration": 1368,
    "start_time": "2023-04-08T16:04:28.611Z"
   },
   {
    "duration": 174,
    "start_time": "2023-04-08T16:06:15.224Z"
   },
   {
    "duration": 124,
    "start_time": "2023-04-08T16:06:23.642Z"
   },
   {
    "duration": 115,
    "start_time": "2023-04-08T16:08:08.920Z"
   },
   {
    "duration": 1377,
    "start_time": "2023-04-08T16:08:28.143Z"
   },
   {
    "duration": 1325,
    "start_time": "2023-04-08T16:12:58.995Z"
   },
   {
    "duration": 2048,
    "start_time": "2023-04-08T16:13:37.177Z"
   },
   {
    "duration": 309,
    "start_time": "2023-04-08T16:14:37.493Z"
   },
   {
    "duration": 175,
    "start_time": "2023-04-08T16:15:54.734Z"
   },
   {
    "duration": 118,
    "start_time": "2023-04-08T16:16:01.865Z"
   },
   {
    "duration": 110,
    "start_time": "2023-04-08T16:16:50.756Z"
   },
   {
    "duration": 1793,
    "start_time": "2023-04-08T16:17:02.722Z"
   },
   {
    "duration": 1732,
    "start_time": "2023-04-08T16:19:53.375Z"
   },
   {
    "duration": 918,
    "start_time": "2023-04-08T16:22:00.624Z"
   },
   {
    "duration": 58,
    "start_time": "2023-04-08T16:25:27.593Z"
   },
   {
    "duration": 146,
    "start_time": "2023-04-08T16:25:33.979Z"
   },
   {
    "duration": 14,
    "start_time": "2023-04-08T16:25:59.846Z"
   },
   {
    "duration": 11,
    "start_time": "2023-04-08T16:26:17.523Z"
   },
   {
    "duration": 159,
    "start_time": "2023-04-08T17:17:08.637Z"
   },
   {
    "duration": 2253,
    "start_time": "2023-04-08T17:18:04.465Z"
   },
   {
    "duration": 5,
    "start_time": "2023-04-08T17:18:06.720Z"
   },
   {
    "duration": 8578,
    "start_time": "2023-04-08T17:18:06.726Z"
   },
   {
    "duration": 4,
    "start_time": "2023-04-08T17:18:15.306Z"
   },
   {
    "duration": 13250,
    "start_time": "2023-04-08T17:18:15.312Z"
   },
   {
    "duration": 2718,
    "start_time": "2023-04-08T17:18:28.564Z"
   },
   {
    "duration": 3,
    "start_time": "2023-04-08T17:18:31.284Z"
   },
   {
    "duration": 17619,
    "start_time": "2023-04-08T17:18:31.289Z"
   },
   {
    "duration": 15500,
    "start_time": "2023-04-08T17:18:48.910Z"
   },
   {
    "duration": 3,
    "start_time": "2023-04-08T17:19:04.413Z"
   },
   {
    "duration": 3712,
    "start_time": "2023-04-08T17:19:04.418Z"
   },
   {
    "duration": 1360,
    "start_time": "2023-04-08T17:19:08.131Z"
   },
   {
    "duration": 2,
    "start_time": "2023-04-08T17:19:09.493Z"
   },
   {
    "duration": 4269,
    "start_time": "2023-04-08T17:19:09.497Z"
   },
   {
    "duration": 1175,
    "start_time": "2023-04-08T17:19:13.767Z"
   },
   {
    "duration": 4,
    "start_time": "2023-04-08T17:19:14.944Z"
   },
   {
    "duration": 1336,
    "start_time": "2023-04-08T17:19:14.949Z"
   },
   {
    "duration": 130,
    "start_time": "2023-04-08T17:19:16.286Z"
   },
   {
    "duration": 2,
    "start_time": "2023-04-08T17:19:16.418Z"
   },
   {
    "duration": 53,
    "start_time": "2023-04-08T17:19:51.843Z"
   },
   {
    "duration": 2015,
    "start_time": "2023-04-08T17:21:56.822Z"
   },
   {
    "duration": 5,
    "start_time": "2023-04-08T17:21:58.839Z"
   },
   {
    "duration": 5762,
    "start_time": "2023-04-08T17:21:58.845Z"
   },
   {
    "duration": 4,
    "start_time": "2023-04-08T17:22:04.609Z"
   },
   {
    "duration": 12250,
    "start_time": "2023-04-08T17:22:04.614Z"
   },
   {
    "duration": 2446,
    "start_time": "2023-04-08T17:22:16.865Z"
   },
   {
    "duration": 3,
    "start_time": "2023-04-08T17:22:19.313Z"
   },
   {
    "duration": 17199,
    "start_time": "2023-04-08T17:22:19.317Z"
   },
   {
    "duration": 15004,
    "start_time": "2023-04-08T17:22:36.517Z"
   },
   {
    "duration": 5,
    "start_time": "2023-04-08T17:22:51.525Z"
   },
   {
    "duration": 3473,
    "start_time": "2023-04-08T17:22:51.531Z"
   },
   {
    "duration": 1320,
    "start_time": "2023-04-08T17:22:55.006Z"
   },
   {
    "duration": 2,
    "start_time": "2023-04-08T17:22:56.328Z"
   },
   {
    "duration": 4088,
    "start_time": "2023-04-08T17:22:56.331Z"
   },
   {
    "duration": 1146,
    "start_time": "2023-04-08T17:23:00.421Z"
   },
   {
    "duration": 3,
    "start_time": "2023-04-08T17:23:01.569Z"
   },
   {
    "duration": 1394,
    "start_time": "2023-04-08T17:23:01.573Z"
   },
   {
    "duration": 121,
    "start_time": "2023-04-08T17:23:02.969Z"
   },
   {
    "duration": 3,
    "start_time": "2023-04-08T17:23:03.092Z"
   },
   {
    "duration": 10119,
    "start_time": "2023-04-08T17:25:43.159Z"
   },
   {
    "duration": 1942,
    "start_time": "2023-04-08T17:26:15.067Z"
   },
   {
    "duration": 4,
    "start_time": "2023-04-08T17:26:17.011Z"
   },
   {
    "duration": 6082,
    "start_time": "2023-04-08T17:26:17.016Z"
   },
   {
    "duration": 4,
    "start_time": "2023-04-08T17:26:23.100Z"
   },
   {
    "duration": 12354,
    "start_time": "2023-04-08T17:26:23.106Z"
   },
   {
    "duration": 2353,
    "start_time": "2023-04-08T17:26:35.461Z"
   },
   {
    "duration": 3,
    "start_time": "2023-04-08T17:26:37.816Z"
   },
   {
    "duration": 17815,
    "start_time": "2023-04-08T17:26:37.821Z"
   },
   {
    "duration": 14813,
    "start_time": "2023-04-08T17:26:55.638Z"
   },
   {
    "duration": 3,
    "start_time": "2023-04-08T17:27:10.453Z"
   },
   {
    "duration": 3865,
    "start_time": "2023-04-08T17:27:10.457Z"
   },
   {
    "duration": 1088,
    "start_time": "2023-04-08T17:27:14.324Z"
   },
   {
    "duration": 3,
    "start_time": "2023-04-08T17:27:15.415Z"
   },
   {
    "duration": 3629,
    "start_time": "2023-04-08T17:27:15.420Z"
   },
   {
    "duration": 985,
    "start_time": "2023-04-08T17:27:19.052Z"
   },
   {
    "duration": 3,
    "start_time": "2023-04-08T17:27:20.040Z"
   },
   {
    "duration": 1316,
    "start_time": "2023-04-08T17:27:20.045Z"
   },
   {
    "duration": 234,
    "start_time": "2023-04-08T17:27:21.363Z"
   },
   {
    "duration": 3,
    "start_time": "2023-04-08T17:27:21.599Z"
   },
   {
    "duration": 52,
    "start_time": "2023-04-08T17:27:41.777Z"
   },
   {
    "duration": 2287,
    "start_time": "2023-04-08T17:28:28.162Z"
   },
   {
    "duration": 4,
    "start_time": "2023-04-08T17:28:30.451Z"
   },
   {
    "duration": 6105,
    "start_time": "2023-04-08T17:28:30.456Z"
   },
   {
    "duration": 4,
    "start_time": "2023-04-08T17:28:36.563Z"
   },
   {
    "duration": 12357,
    "start_time": "2023-04-08T17:28:36.568Z"
   },
   {
    "duration": 2218,
    "start_time": "2023-04-08T17:28:48.927Z"
   },
   {
    "duration": 3,
    "start_time": "2023-04-08T17:28:51.147Z"
   },
   {
    "duration": 17380,
    "start_time": "2023-04-08T17:28:51.152Z"
   },
   {
    "duration": 14918,
    "start_time": "2023-04-08T17:29:08.533Z"
   },
   {
    "duration": 2,
    "start_time": "2023-04-08T17:29:23.454Z"
   },
   {
    "duration": 4023,
    "start_time": "2023-04-08T17:29:23.458Z"
   },
   {
    "duration": 1045,
    "start_time": "2023-04-08T17:29:27.483Z"
   },
   {
    "duration": 3,
    "start_time": "2023-04-08T17:29:28.529Z"
   },
   {
    "duration": 3445,
    "start_time": "2023-04-08T17:29:28.540Z"
   },
   {
    "duration": 899,
    "start_time": "2023-04-08T17:29:31.987Z"
   },
   {
    "duration": 2,
    "start_time": "2023-04-08T17:29:32.888Z"
   },
   {
    "duration": 1340,
    "start_time": "2023-04-08T17:29:32.892Z"
   },
   {
    "duration": 224,
    "start_time": "2023-04-08T17:29:34.234Z"
   },
   {
    "duration": 2,
    "start_time": "2023-04-08T17:29:34.460Z"
   },
   {
    "duration": 161,
    "start_time": "2023-04-08T17:29:34.463Z"
   },
   {
    "duration": 159,
    "start_time": "2023-04-08T17:29:43.637Z"
   },
   {
    "duration": 55,
    "start_time": "2023-04-08T17:31:37.283Z"
   },
   {
    "duration": 2367,
    "start_time": "2023-04-08T17:31:41.523Z"
   },
   {
    "duration": 3,
    "start_time": "2023-04-08T17:31:43.893Z"
   },
   {
    "duration": 5894,
    "start_time": "2023-04-08T17:31:43.898Z"
   },
   {
    "duration": 4,
    "start_time": "2023-04-08T17:31:49.794Z"
   },
   {
    "duration": 12401,
    "start_time": "2023-04-08T17:31:49.800Z"
   },
   {
    "duration": 2124,
    "start_time": "2023-04-08T17:32:02.202Z"
   },
   {
    "duration": 4,
    "start_time": "2023-04-08T17:32:04.327Z"
   },
   {
    "duration": 17138,
    "start_time": "2023-04-08T17:32:04.333Z"
   },
   {
    "duration": 14281,
    "start_time": "2023-04-08T17:32:21.472Z"
   },
   {
    "duration": 2,
    "start_time": "2023-04-08T17:32:35.756Z"
   },
   {
    "duration": 3995,
    "start_time": "2023-04-08T17:32:35.759Z"
   },
   {
    "duration": 1071,
    "start_time": "2023-04-08T17:32:39.756Z"
   },
   {
    "duration": 12,
    "start_time": "2023-04-08T17:32:40.829Z"
   },
   {
    "duration": 3480,
    "start_time": "2023-04-08T17:32:40.843Z"
   },
   {
    "duration": 914,
    "start_time": "2023-04-08T17:32:44.326Z"
   },
   {
    "duration": 2,
    "start_time": "2023-04-08T17:32:45.243Z"
   },
   {
    "duration": 1386,
    "start_time": "2023-04-08T17:32:45.247Z"
   },
   {
    "duration": 269,
    "start_time": "2023-04-08T17:32:46.635Z"
   },
   {
    "duration": 2,
    "start_time": "2023-04-08T17:32:46.906Z"
   },
   {
    "duration": 274,
    "start_time": "2023-04-08T17:32:46.910Z"
   },
   {
    "duration": 2383,
    "start_time": "2023-04-08T17:33:10.864Z"
   },
   {
    "duration": 1227,
    "start_time": "2023-04-08T17:47:22.588Z"
   },
   {
    "duration": 5419,
    "start_time": "2023-04-08T17:47:56.343Z"
   },
   {
    "duration": 118,
    "start_time": "2023-04-08T17:51:14.895Z"
   },
   {
    "duration": 4571,
    "start_time": "2023-04-08T17:51:38.828Z"
   },
   {
    "duration": 4544,
    "start_time": "2023-04-08T17:52:13.696Z"
   },
   {
    "duration": 25,
    "start_time": "2023-04-08T17:52:59.097Z"
   },
   {
    "duration": 2001,
    "start_time": "2023-04-08T17:53:39.258Z"
   },
   {
    "duration": 49,
    "start_time": "2023-04-08T18:03:01.208Z"
   },
   {
    "duration": 2419,
    "start_time": "2023-04-08T18:03:08.841Z"
   },
   {
    "duration": 5,
    "start_time": "2023-04-08T18:03:11.262Z"
   },
   {
    "duration": 6546,
    "start_time": "2023-04-08T18:03:11.268Z"
   },
   {
    "duration": 5,
    "start_time": "2023-04-08T18:03:17.816Z"
   },
   {
    "duration": 12173,
    "start_time": "2023-04-08T18:03:17.823Z"
   },
   {
    "duration": 2208,
    "start_time": "2023-04-08T18:03:29.998Z"
   },
   {
    "duration": 2,
    "start_time": "2023-04-08T18:03:32.208Z"
   },
   {
    "duration": 17483,
    "start_time": "2023-04-08T18:03:32.211Z"
   },
   {
    "duration": 14438,
    "start_time": "2023-04-08T18:03:49.696Z"
   },
   {
    "duration": 5,
    "start_time": "2023-04-08T18:04:04.136Z"
   },
   {
    "duration": 3965,
    "start_time": "2023-04-08T18:04:04.143Z"
   },
   {
    "duration": 1037,
    "start_time": "2023-04-08T18:04:08.110Z"
   },
   {
    "duration": 3,
    "start_time": "2023-04-08T18:04:09.149Z"
   },
   {
    "duration": 3470,
    "start_time": "2023-04-08T18:04:09.153Z"
   },
   {
    "duration": 956,
    "start_time": "2023-04-08T18:04:12.624Z"
   },
   {
    "duration": 2,
    "start_time": "2023-04-08T18:04:13.582Z"
   },
   {
    "duration": 1373,
    "start_time": "2023-04-08T18:04:13.586Z"
   },
   {
    "duration": 227,
    "start_time": "2023-04-08T18:04:14.961Z"
   },
   {
    "duration": 2,
    "start_time": "2023-04-08T18:04:15.190Z"
   },
   {
    "duration": 2576,
    "start_time": "2023-04-08T18:04:15.194Z"
   },
   {
    "duration": 2323,
    "start_time": "2023-04-08T18:09:06.848Z"
   },
   {
    "duration": 3625,
    "start_time": "2023-04-08T18:10:20.427Z"
   },
   {
    "duration": 60,
    "start_time": "2023-04-08T18:10:43.797Z"
   },
   {
    "duration": 199,
    "start_time": "2023-04-08T18:12:42.023Z"
   },
   {
    "duration": 207,
    "start_time": "2023-04-08T18:12:58.596Z"
   },
   {
    "duration": 156,
    "start_time": "2023-04-08T18:13:08.618Z"
   },
   {
    "duration": 154,
    "start_time": "2023-04-08T18:13:47.476Z"
   },
   {
    "duration": 172,
    "start_time": "2023-04-08T18:14:05.708Z"
   },
   {
    "duration": 176,
    "start_time": "2023-04-08T18:16:50.553Z"
   },
   {
    "duration": 165,
    "start_time": "2023-04-08T18:18:11.301Z"
   },
   {
    "duration": 205,
    "start_time": "2023-04-08T18:18:21.236Z"
   },
   {
    "duration": 173,
    "start_time": "2023-04-08T18:18:28.346Z"
   },
   {
    "duration": 162,
    "start_time": "2023-04-08T18:18:36.352Z"
   },
   {
    "duration": 168,
    "start_time": "2023-04-08T18:18:43.087Z"
   },
   {
    "duration": 180,
    "start_time": "2023-04-08T18:18:50.610Z"
   },
   {
    "duration": 176,
    "start_time": "2023-04-08T18:18:56.540Z"
   },
   {
    "duration": 182,
    "start_time": "2023-04-08T18:19:07.639Z"
   },
   {
    "duration": 173,
    "start_time": "2023-04-08T18:19:28.216Z"
   },
   {
    "duration": 162,
    "start_time": "2023-04-08T18:19:33.796Z"
   },
   {
    "duration": 164,
    "start_time": "2023-04-08T18:19:40.938Z"
   },
   {
    "duration": 182,
    "start_time": "2023-04-08T18:19:50.467Z"
   },
   {
    "duration": 185,
    "start_time": "2023-04-08T18:19:59.743Z"
   },
   {
    "duration": 574,
    "start_time": "2023-04-08T18:20:16.224Z"
   },
   {
    "duration": 170,
    "start_time": "2023-04-08T18:20:19.361Z"
   },
   {
    "duration": 157,
    "start_time": "2023-04-08T18:21:19.620Z"
   },
   {
    "duration": 3,
    "start_time": "2023-04-08T18:36:55.794Z"
   },
   {
    "duration": 609,
    "start_time": "2023-04-08T18:39:36.640Z"
   },
   {
    "duration": 29,
    "start_time": "2023-04-08T18:41:39.474Z"
   },
   {
    "duration": 156,
    "start_time": "2023-04-08T18:43:07.313Z"
   },
   {
    "duration": 137,
    "start_time": "2023-04-08T18:43:23.056Z"
   },
   {
    "duration": 121,
    "start_time": "2023-04-08T18:43:42.398Z"
   },
   {
    "duration": 559,
    "start_time": "2023-04-08T18:44:52.271Z"
   },
   {
    "duration": 716,
    "start_time": "2023-04-08T18:45:00.612Z"
   },
   {
    "duration": 132,
    "start_time": "2023-04-08T18:51:47.604Z"
   },
   {
    "duration": 111,
    "start_time": "2023-04-08T18:52:33.267Z"
   },
   {
    "duration": 547,
    "start_time": "2023-04-08T18:53:14.264Z"
   },
   {
    "duration": 201,
    "start_time": "2023-04-08T18:53:45.751Z"
   },
   {
    "duration": 161,
    "start_time": "2023-04-08T18:54:42.037Z"
   },
   {
    "duration": 3,
    "start_time": "2023-04-08T18:56:31.782Z"
   },
   {
    "duration": 1812,
    "start_time": "2023-04-09T08:18:07.603Z"
   },
   {
    "duration": 4,
    "start_time": "2023-04-09T08:18:09.417Z"
   },
   {
    "duration": 7409,
    "start_time": "2023-04-09T08:18:09.422Z"
   },
   {
    "duration": 4,
    "start_time": "2023-04-09T08:18:16.832Z"
   },
   {
    "duration": 10759,
    "start_time": "2023-04-09T08:18:16.838Z"
   },
   {
    "duration": 2189,
    "start_time": "2023-04-09T08:18:27.598Z"
   },
   {
    "duration": 3,
    "start_time": "2023-04-09T08:18:29.789Z"
   },
   {
    "duration": 12190,
    "start_time": "2023-04-09T08:18:29.794Z"
   },
   {
    "duration": 12103,
    "start_time": "2023-04-09T08:18:41.985Z"
   },
   {
    "duration": 3,
    "start_time": "2023-04-09T08:18:54.089Z"
   },
   {
    "duration": 3142,
    "start_time": "2023-04-09T08:18:54.093Z"
   },
   {
    "duration": 1004,
    "start_time": "2023-04-09T08:18:57.237Z"
   },
   {
    "duration": 2,
    "start_time": "2023-04-09T08:18:58.242Z"
   },
   {
    "duration": 2773,
    "start_time": "2023-04-09T08:18:58.246Z"
   },
   {
    "duration": 705,
    "start_time": "2023-04-09T08:19:01.021Z"
   },
   {
    "duration": 3,
    "start_time": "2023-04-09T08:19:01.727Z"
   },
   {
    "duration": 1328,
    "start_time": "2023-04-09T08:19:01.731Z"
   },
   {
    "duration": 132,
    "start_time": "2023-04-09T08:19:03.061Z"
   },
   {
    "duration": 2,
    "start_time": "2023-04-09T08:19:03.194Z"
   },
   {
    "duration": 535,
    "start_time": "2023-04-09T08:19:03.198Z"
   },
   {
    "duration": 285,
    "start_time": "2023-04-09T08:19:03.735Z"
   },
   {
    "duration": 2,
    "start_time": "2023-04-09T08:19:04.022Z"
   },
   {
    "duration": 537,
    "start_time": "2023-04-09T08:19:04.026Z"
   },
   {
    "duration": 133,
    "start_time": "2023-04-09T08:19:04.564Z"
   },
   {
    "duration": 3,
    "start_time": "2023-04-09T08:19:04.698Z"
   },
   {
    "duration": 326,
    "start_time": "2023-04-09T09:05:26.627Z"
   },
   {
    "duration": 118,
    "start_time": "2023-04-09T09:06:02.771Z"
   },
   {
    "duration": 118,
    "start_time": "2023-04-09T09:06:31.999Z"
   },
   {
    "duration": 132,
    "start_time": "2023-04-09T09:07:01.639Z"
   },
   {
    "duration": 10054,
    "start_time": "2023-04-09T09:07:22.913Z"
   },
   {
    "duration": 1248,
    "start_time": "2023-04-09T09:08:23.936Z"
   },
   {
    "duration": 3428,
    "start_time": "2023-04-09T09:14:48.314Z"
   },
   {
    "duration": 18,
    "start_time": "2023-04-09T09:14:56.014Z"
   },
   {
    "duration": 2247,
    "start_time": "2023-04-09T09:18:05.671Z"
   },
   {
    "duration": 1650,
    "start_time": "2023-04-09T09:18:07.920Z"
   },
   {
    "duration": 4,
    "start_time": "2023-04-09T09:18:09.571Z"
   },
   {
    "duration": 7633,
    "start_time": "2023-04-09T09:18:09.576Z"
   },
   {
    "duration": 5,
    "start_time": "2023-04-09T09:18:17.211Z"
   },
   {
    "duration": 10635,
    "start_time": "2023-04-09T09:18:17.219Z"
   },
   {
    "duration": 2275,
    "start_time": "2023-04-09T09:18:27.855Z"
   },
   {
    "duration": 8,
    "start_time": "2023-04-09T09:18:30.132Z"
   },
   {
    "duration": 11821,
    "start_time": "2023-04-09T09:18:30.142Z"
   },
   {
    "duration": 13163,
    "start_time": "2023-04-09T09:18:41.965Z"
   },
   {
    "duration": 2,
    "start_time": "2023-04-09T09:18:55.130Z"
   },
   {
    "duration": 3485,
    "start_time": "2023-04-09T09:18:55.134Z"
   },
   {
    "duration": 1083,
    "start_time": "2023-04-09T09:18:58.620Z"
   },
   {
    "duration": 2,
    "start_time": "2023-04-09T09:18:59.705Z"
   },
   {
    "duration": 3077,
    "start_time": "2023-04-09T09:18:59.709Z"
   },
   {
    "duration": 829,
    "start_time": "2023-04-09T09:19:02.788Z"
   },
   {
    "duration": 3,
    "start_time": "2023-04-09T09:19:03.619Z"
   },
   {
    "duration": 1326,
    "start_time": "2023-04-09T09:19:03.623Z"
   },
   {
    "duration": 256,
    "start_time": "2023-04-09T09:19:04.959Z"
   },
   {
    "duration": 2,
    "start_time": "2023-04-09T09:19:05.217Z"
   },
   {
    "duration": 552,
    "start_time": "2023-04-09T09:19:05.221Z"
   },
   {
    "duration": 363,
    "start_time": "2023-04-09T09:19:05.775Z"
   },
   {
    "duration": 3,
    "start_time": "2023-04-09T09:19:06.140Z"
   },
   {
    "duration": 587,
    "start_time": "2023-04-09T09:19:06.146Z"
   },
   {
    "duration": 191,
    "start_time": "2023-04-09T09:19:06.735Z"
   },
   {
    "duration": 3,
    "start_time": "2023-04-09T09:19:06.929Z"
   },
   {
    "duration": 10321,
    "start_time": "2023-04-09T09:19:06.945Z"
   },
   {
    "duration": 1407,
    "start_time": "2023-04-09T09:19:17.271Z"
   },
   {
    "duration": 2134,
    "start_time": "2023-04-09T09:20:08.957Z"
   },
   {
    "duration": 2074,
    "start_time": "2023-04-09T09:20:11.093Z"
   },
   {
    "duration": 3,
    "start_time": "2023-04-09T09:20:13.169Z"
   },
   {
    "duration": 8695,
    "start_time": "2023-04-09T09:20:13.175Z"
   },
   {
    "duration": 5,
    "start_time": "2023-04-09T09:20:21.871Z"
   },
   {
    "duration": 11942,
    "start_time": "2023-04-09T09:20:21.878Z"
   },
   {
    "duration": 2478,
    "start_time": "2023-04-09T09:20:33.822Z"
   },
   {
    "duration": 5,
    "start_time": "2023-04-09T09:20:36.304Z"
   },
   {
    "duration": 12270,
    "start_time": "2023-04-09T09:20:36.311Z"
   },
   {
    "duration": 13487,
    "start_time": "2023-04-09T09:20:48.584Z"
   },
   {
    "duration": 3,
    "start_time": "2023-04-09T09:21:02.073Z"
   },
   {
    "duration": 3758,
    "start_time": "2023-04-09T09:21:02.077Z"
   },
   {
    "duration": 1227,
    "start_time": "2023-04-09T09:21:05.841Z"
   },
   {
    "duration": 3,
    "start_time": "2023-04-09T09:21:07.070Z"
   },
   {
    "duration": 3331,
    "start_time": "2023-04-09T09:21:07.075Z"
   },
   {
    "duration": 798,
    "start_time": "2023-04-09T09:21:10.407Z"
   },
   {
    "duration": 3,
    "start_time": "2023-04-09T09:21:11.206Z"
   },
   {
    "duration": 2367,
    "start_time": "2023-04-09T09:21:11.211Z"
   },
   {
    "duration": 207,
    "start_time": "2023-04-09T09:21:13.580Z"
   },
   {
    "duration": 3,
    "start_time": "2023-04-09T09:21:13.789Z"
   },
   {
    "duration": 538,
    "start_time": "2023-04-09T09:21:13.794Z"
   },
   {
    "duration": 369,
    "start_time": "2023-04-09T09:21:14.334Z"
   },
   {
    "duration": 3,
    "start_time": "2023-04-09T09:21:14.706Z"
   },
   {
    "duration": 562,
    "start_time": "2023-04-09T09:21:14.710Z"
   },
   {
    "duration": 220,
    "start_time": "2023-04-09T09:21:15.275Z"
   },
   {
    "duration": 3,
    "start_time": "2023-04-09T09:21:15.497Z"
   },
   {
    "duration": 9814,
    "start_time": "2023-04-09T09:21:15.502Z"
   },
   {
    "duration": 1435,
    "start_time": "2023-04-09T09:21:25.321Z"
   },
   {
    "duration": 4,
    "start_time": "2023-04-09T09:21:26.758Z"
   },
   {
    "duration": 2435,
    "start_time": "2023-04-09T09:29:17.937Z"
   },
   {
    "duration": 2223,
    "start_time": "2023-04-09T09:29:20.374Z"
   },
   {
    "duration": 5,
    "start_time": "2023-04-09T09:29:22.600Z"
   },
   {
    "duration": 12516,
    "start_time": "2023-04-09T09:29:22.607Z"
   },
   {
    "duration": 4,
    "start_time": "2023-04-09T09:29:35.124Z"
   },
   {
    "duration": 11239,
    "start_time": "2023-04-09T09:29:35.129Z"
   },
   {
    "duration": 2743,
    "start_time": "2023-04-09T09:29:46.369Z"
   },
   {
    "duration": 3,
    "start_time": "2023-04-09T09:29:49.114Z"
   },
   {
    "duration": 12044,
    "start_time": "2023-04-09T09:29:49.118Z"
   },
   {
    "duration": 12862,
    "start_time": "2023-04-09T09:30:01.164Z"
   },
   {
    "duration": 22,
    "start_time": "2023-04-09T09:30:14.027Z"
   },
   {
    "duration": 3689,
    "start_time": "2023-04-09T09:30:14.058Z"
   },
   {
    "duration": 1108,
    "start_time": "2023-04-09T09:30:17.755Z"
   },
   {
    "duration": 4,
    "start_time": "2023-04-09T09:30:18.865Z"
   },
   {
    "duration": 3128,
    "start_time": "2023-04-09T09:30:18.874Z"
   },
   {
    "duration": 794,
    "start_time": "2023-04-09T09:30:22.003Z"
   },
   {
    "duration": 2,
    "start_time": "2023-04-09T09:30:22.799Z"
   },
   {
    "duration": 1393,
    "start_time": "2023-04-09T09:30:22.803Z"
   },
   {
    "duration": 268,
    "start_time": "2023-04-09T09:30:24.198Z"
   },
   {
    "duration": 3,
    "start_time": "2023-04-09T09:30:24.468Z"
   },
   {
    "duration": 534,
    "start_time": "2023-04-09T09:30:24.474Z"
   },
   {
    "duration": 354,
    "start_time": "2023-04-09T09:30:25.010Z"
   },
   {
    "duration": 2,
    "start_time": "2023-04-09T09:30:25.366Z"
   },
   {
    "duration": 609,
    "start_time": "2023-04-09T09:30:25.370Z"
   },
   {
    "duration": 139,
    "start_time": "2023-04-09T09:30:25.981Z"
   },
   {
    "duration": 2,
    "start_time": "2023-04-09T09:30:26.122Z"
   },
   {
    "duration": 10442,
    "start_time": "2023-04-09T09:30:26.126Z"
   },
   {
    "duration": 1385,
    "start_time": "2023-04-09T09:30:36.579Z"
   },
   {
    "duration": 2144,
    "start_time": "2023-04-09T09:31:20.024Z"
   },
   {
    "duration": 1724,
    "start_time": "2023-04-09T09:31:22.171Z"
   },
   {
    "duration": 4,
    "start_time": "2023-04-09T09:31:23.897Z"
   },
   {
    "duration": 10833,
    "start_time": "2023-04-09T09:31:23.903Z"
   },
   {
    "duration": 18,
    "start_time": "2023-04-09T09:31:34.737Z"
   },
   {
    "duration": 11501,
    "start_time": "2023-04-09T09:31:34.756Z"
   },
   {
    "duration": 2571,
    "start_time": "2023-04-09T09:31:46.261Z"
   },
   {
    "duration": 17,
    "start_time": "2023-04-09T09:31:48.833Z"
   },
   {
    "duration": 11934,
    "start_time": "2023-04-09T09:31:48.858Z"
   },
   {
    "duration": 12837,
    "start_time": "2023-04-09T09:32:00.794Z"
   },
   {
    "duration": 26,
    "start_time": "2023-04-09T09:32:13.632Z"
   },
   {
    "duration": 3630,
    "start_time": "2023-04-09T09:32:13.660Z"
   },
   {
    "duration": 1104,
    "start_time": "2023-04-09T09:32:17.292Z"
   },
   {
    "duration": 3,
    "start_time": "2023-04-09T09:32:18.397Z"
   },
   {
    "duration": 2907,
    "start_time": "2023-04-09T09:32:18.402Z"
   },
   {
    "duration": 766,
    "start_time": "2023-04-09T09:32:21.311Z"
   },
   {
    "duration": 2,
    "start_time": "2023-04-09T09:32:22.078Z"
   },
   {
    "duration": 2389,
    "start_time": "2023-04-09T09:32:22.082Z"
   },
   {
    "duration": 263,
    "start_time": "2023-04-09T09:32:24.473Z"
   },
   {
    "duration": 3,
    "start_time": "2023-04-09T09:32:24.737Z"
   },
   {
    "duration": 536,
    "start_time": "2023-04-09T09:32:24.748Z"
   },
   {
    "duration": 313,
    "start_time": "2023-04-09T09:32:25.286Z"
   },
   {
    "duration": 3,
    "start_time": "2023-04-09T09:32:25.601Z"
   },
   {
    "duration": 532,
    "start_time": "2023-04-09T09:32:25.605Z"
   },
   {
    "duration": 197,
    "start_time": "2023-04-09T09:32:26.139Z"
   },
   {
    "duration": 18,
    "start_time": "2023-04-09T09:32:26.343Z"
   },
   {
    "duration": 1708,
    "start_time": "2023-04-09T09:32:26.364Z"
   },
   {
    "duration": 1063,
    "start_time": "2023-04-09T09:32:28.075Z"
   },
   {
    "duration": 2064,
    "start_time": "2023-04-09T09:41:09.410Z"
   },
   {
    "duration": 1603,
    "start_time": "2023-04-09T09:41:11.476Z"
   },
   {
    "duration": 3,
    "start_time": "2023-04-09T09:41:13.082Z"
   },
   {
    "duration": 8560,
    "start_time": "2023-04-09T09:41:13.086Z"
   },
   {
    "duration": 7,
    "start_time": "2023-04-09T09:41:21.648Z"
   },
   {
    "duration": 10340,
    "start_time": "2023-04-09T09:41:21.656Z"
   },
   {
    "duration": 2117,
    "start_time": "2023-04-09T09:41:31.998Z"
   },
   {
    "duration": 2,
    "start_time": "2023-04-09T09:41:34.117Z"
   },
   {
    "duration": 11808,
    "start_time": "2023-04-09T09:41:34.122Z"
   },
   {
    "duration": 11862,
    "start_time": "2023-04-09T09:41:45.932Z"
   },
   {
    "duration": 2,
    "start_time": "2023-04-09T09:41:57.796Z"
   },
   {
    "duration": 3296,
    "start_time": "2023-04-09T09:41:57.799Z"
   },
   {
    "duration": 998,
    "start_time": "2023-04-09T09:42:01.097Z"
   },
   {
    "duration": 2,
    "start_time": "2023-04-09T09:42:02.097Z"
   },
   {
    "duration": 2840,
    "start_time": "2023-04-09T09:42:02.100Z"
   },
   {
    "duration": 760,
    "start_time": "2023-04-09T09:42:04.945Z"
   },
   {
    "duration": 3,
    "start_time": "2023-04-09T09:42:05.707Z"
   },
   {
    "duration": 1305,
    "start_time": "2023-04-09T09:42:05.711Z"
   },
   {
    "duration": 218,
    "start_time": "2023-04-09T09:42:07.018Z"
   },
   {
    "duration": 3,
    "start_time": "2023-04-09T09:42:07.238Z"
   },
   {
    "duration": 535,
    "start_time": "2023-04-09T09:42:07.243Z"
   },
   {
    "duration": 373,
    "start_time": "2023-04-09T09:42:07.780Z"
   },
   {
    "duration": 3,
    "start_time": "2023-04-09T09:42:08.155Z"
   },
   {
    "duration": 536,
    "start_time": "2023-04-09T09:42:08.159Z"
   },
   {
    "duration": 156,
    "start_time": "2023-04-09T09:42:08.696Z"
   },
   {
    "duration": 3,
    "start_time": "2023-04-09T09:42:08.854Z"
   },
   {
    "duration": 1751,
    "start_time": "2023-04-09T09:42:08.860Z"
   },
   {
    "duration": 1055,
    "start_time": "2023-04-09T09:42:10.612Z"
   },
   {
    "duration": 280,
    "start_time": "2023-04-09T09:48:44.547Z"
   },
   {
    "duration": 397,
    "start_time": "2023-04-09T09:51:53.400Z"
   },
   {
    "duration": 1990,
    "start_time": "2023-04-09T09:53:53.012Z"
   },
   {
    "duration": 1799,
    "start_time": "2023-04-09T09:53:55.004Z"
   },
   {
    "duration": 5,
    "start_time": "2023-04-09T09:53:56.805Z"
   },
   {
    "duration": 7874,
    "start_time": "2023-04-09T09:53:56.813Z"
   },
   {
    "duration": 3,
    "start_time": "2023-04-09T09:54:04.689Z"
   },
   {
    "duration": 10547,
    "start_time": "2023-04-09T09:54:04.694Z"
   },
   {
    "duration": 2278,
    "start_time": "2023-04-09T09:54:15.242Z"
   },
   {
    "duration": 3,
    "start_time": "2023-04-09T09:54:17.521Z"
   },
   {
    "duration": 12874,
    "start_time": "2023-04-09T09:54:17.525Z"
   },
   {
    "duration": 11770,
    "start_time": "2023-04-09T09:54:30.401Z"
   },
   {
    "duration": 3,
    "start_time": "2023-04-09T09:54:42.173Z"
   },
   {
    "duration": 3234,
    "start_time": "2023-04-09T09:54:42.177Z"
   },
   {
    "duration": 1005,
    "start_time": "2023-04-09T09:54:45.413Z"
   },
   {
    "duration": 3,
    "start_time": "2023-04-09T09:54:46.420Z"
   },
   {
    "duration": 2750,
    "start_time": "2023-04-09T09:54:46.424Z"
   },
   {
    "duration": 712,
    "start_time": "2023-04-09T09:54:49.175Z"
   },
   {
    "duration": 2,
    "start_time": "2023-04-09T09:54:49.889Z"
   },
   {
    "duration": 1295,
    "start_time": "2023-04-09T09:54:49.892Z"
   },
   {
    "duration": 184,
    "start_time": "2023-04-09T09:54:51.188Z"
   },
   {
    "duration": 2,
    "start_time": "2023-04-09T09:54:51.374Z"
   },
   {
    "duration": 527,
    "start_time": "2023-04-09T09:54:51.377Z"
   },
   {
    "duration": 300,
    "start_time": "2023-04-09T09:54:51.906Z"
   },
   {
    "duration": 2,
    "start_time": "2023-04-09T09:54:52.208Z"
   },
   {
    "duration": 531,
    "start_time": "2023-04-09T09:54:52.211Z"
   },
   {
    "duration": 139,
    "start_time": "2023-04-09T09:54:52.744Z"
   },
   {
    "duration": 3,
    "start_time": "2023-04-09T09:54:52.885Z"
   },
   {
    "duration": 1633,
    "start_time": "2023-04-09T09:54:52.889Z"
   },
   {
    "duration": 953,
    "start_time": "2023-04-09T09:54:54.524Z"
   },
   {
    "duration": 274,
    "start_time": "2023-04-09T09:54:55.478Z"
   },
   {
    "duration": 382,
    "start_time": "2023-04-09T09:54:55.753Z"
   },
   {
    "duration": 6,
    "start_time": "2023-04-09T09:56:38.919Z"
   },
   {
    "duration": 206,
    "start_time": "2023-04-09T09:57:39.059Z"
   },
   {
    "duration": 26,
    "start_time": "2023-04-09T09:57:52.786Z"
   },
   {
    "duration": 31,
    "start_time": "2023-04-09T10:03:17.361Z"
   },
   {
    "duration": 55,
    "start_time": "2023-04-09T10:03:26.809Z"
   },
   {
    "duration": 3049,
    "start_time": "2023-04-09T18:28:12.101Z"
   },
   {
    "duration": 1848,
    "start_time": "2023-04-09T18:28:15.152Z"
   },
   {
    "duration": 3,
    "start_time": "2023-04-09T18:28:17.002Z"
   },
   {
    "duration": 5917,
    "start_time": "2023-04-09T18:28:17.007Z"
   },
   {
    "duration": 4,
    "start_time": "2023-04-09T18:28:22.926Z"
   },
   {
    "duration": 12189,
    "start_time": "2023-04-09T18:28:22.931Z"
   },
   {
    "duration": 2624,
    "start_time": "2023-04-09T18:28:35.121Z"
   },
   {
    "duration": 3,
    "start_time": "2023-04-09T18:28:37.748Z"
   },
   {
    "duration": 21618,
    "start_time": "2023-04-09T18:28:37.752Z"
   },
   {
    "duration": 18202,
    "start_time": "2023-04-09T18:28:59.374Z"
   },
   {
    "duration": 4,
    "start_time": "2023-04-09T18:29:17.578Z"
   },
   {
    "duration": 5141,
    "start_time": "2023-04-09T18:29:17.635Z"
   },
   {
    "duration": 1249,
    "start_time": "2023-04-09T18:29:22.778Z"
   },
   {
    "duration": 6,
    "start_time": "2023-04-09T18:29:24.029Z"
   },
   {
    "duration": 5801,
    "start_time": "2023-04-09T18:29:24.037Z"
   },
   {
    "duration": 1084,
    "start_time": "2023-04-09T18:29:29.840Z"
   },
   {
    "duration": 3,
    "start_time": "2023-04-09T18:29:30.925Z"
   },
   {
    "duration": 1371,
    "start_time": "2023-04-09T18:29:30.935Z"
   },
   {
    "duration": 170,
    "start_time": "2023-04-09T18:29:32.308Z"
   },
   {
    "duration": 4,
    "start_time": "2023-04-09T18:29:32.480Z"
   },
   {
    "duration": 574,
    "start_time": "2023-04-09T18:29:32.486Z"
   },
   {
    "duration": 351,
    "start_time": "2023-04-09T18:29:33.062Z"
   },
   {
    "duration": 3,
    "start_time": "2023-04-09T18:29:33.414Z"
   },
   {
    "duration": 559,
    "start_time": "2023-04-09T18:29:33.419Z"
   },
   {
    "duration": 132,
    "start_time": "2023-04-09T18:29:33.980Z"
   },
   {
    "duration": 3,
    "start_time": "2023-04-09T18:29:34.115Z"
   },
   {
    "duration": 1892,
    "start_time": "2023-04-09T18:29:34.120Z"
   },
   {
    "duration": 1117,
    "start_time": "2023-04-09T18:29:36.014Z"
   },
   {
    "duration": 328,
    "start_time": "2023-04-09T18:29:37.136Z"
   },
   {
    "duration": 522,
    "start_time": "2023-04-09T18:29:37.466Z"
   },
   {
    "duration": 5,
    "start_time": "2023-04-09T18:29:37.991Z"
   },
   {
    "duration": 59,
    "start_time": "2023-04-09T18:29:37.998Z"
   },
   {
    "duration": 127,
    "start_time": "2023-04-09T18:29:38.059Z"
   },
   {
    "duration": 2939,
    "start_time": "2023-04-09T18:40:07.305Z"
   },
   {
    "duration": 2003,
    "start_time": "2023-04-09T18:40:10.246Z"
   },
   {
    "duration": 4,
    "start_time": "2023-04-09T18:40:12.250Z"
   },
   {
    "duration": 15841,
    "start_time": "2023-04-09T18:40:12.257Z"
   },
   {
    "duration": 6,
    "start_time": "2023-04-09T18:40:28.100Z"
   },
   {
    "duration": 11866,
    "start_time": "2023-04-09T18:40:28.108Z"
   },
   {
    "duration": 2486,
    "start_time": "2023-04-09T18:40:39.975Z"
   },
   {
    "duration": 3,
    "start_time": "2023-04-09T18:40:42.463Z"
   },
   {
    "duration": 15942,
    "start_time": "2023-04-09T18:40:42.467Z"
   },
   {
    "duration": 14091,
    "start_time": "2023-04-09T18:40:58.411Z"
   },
   {
    "duration": 4,
    "start_time": "2023-04-09T18:41:12.504Z"
   },
   {
    "duration": 3930,
    "start_time": "2023-04-09T18:41:12.509Z"
   },
   {
    "duration": 1252,
    "start_time": "2023-04-09T18:41:16.441Z"
   },
   {
    "duration": 2,
    "start_time": "2023-04-09T18:41:17.695Z"
   },
   {
    "duration": 3222,
    "start_time": "2023-04-09T18:41:17.699Z"
   },
   {
    "duration": 1106,
    "start_time": "2023-04-09T18:41:20.924Z"
   },
   {
    "duration": 4,
    "start_time": "2023-04-09T18:41:22.035Z"
   },
   {
    "duration": 1931,
    "start_time": "2023-04-09T18:41:22.040Z"
   },
   {
    "duration": 208,
    "start_time": "2023-04-09T18:41:23.973Z"
   },
   {
    "duration": 2,
    "start_time": "2023-04-09T18:41:24.183Z"
   },
   {
    "duration": 547,
    "start_time": "2023-04-09T18:41:24.187Z"
   },
   {
    "duration": 349,
    "start_time": "2023-04-09T18:41:24.736Z"
   },
   {
    "duration": 4,
    "start_time": "2023-04-09T18:41:25.087Z"
   },
   {
    "duration": 543,
    "start_time": "2023-04-09T18:41:25.093Z"
   },
   {
    "duration": 158,
    "start_time": "2023-04-09T18:41:25.638Z"
   },
   {
    "duration": 3,
    "start_time": "2023-04-09T18:41:25.797Z"
   },
   {
    "duration": 2732,
    "start_time": "2023-04-09T18:41:25.802Z"
   },
   {
    "duration": 1198,
    "start_time": "2023-04-09T18:41:28.538Z"
   },
   {
    "duration": 456,
    "start_time": "2023-04-09T18:41:29.738Z"
   },
   {
    "duration": 543,
    "start_time": "2023-04-09T18:41:30.196Z"
   },
   {
    "duration": 6,
    "start_time": "2023-04-09T18:41:30.740Z"
   },
   {
    "duration": 61,
    "start_time": "2023-04-09T18:41:30.748Z"
   },
   {
    "duration": 95,
    "start_time": "2023-04-09T18:41:30.811Z"
   },
   {
    "duration": 2149,
    "start_time": "2023-04-09T18:44:22.226Z"
   },
   {
    "duration": 1790,
    "start_time": "2023-04-09T18:44:24.377Z"
   },
   {
    "duration": 4,
    "start_time": "2023-04-09T18:44:26.169Z"
   },
   {
    "duration": 5451,
    "start_time": "2023-04-09T18:44:26.175Z"
   },
   {
    "duration": 5,
    "start_time": "2023-04-09T18:44:31.628Z"
   },
   {
    "duration": 11317,
    "start_time": "2023-04-09T18:44:31.635Z"
   },
   {
    "duration": 2671,
    "start_time": "2023-04-09T18:44:42.954Z"
   },
   {
    "duration": 7,
    "start_time": "2023-04-09T18:44:45.627Z"
   },
   {
    "duration": 15655,
    "start_time": "2023-04-09T18:44:45.636Z"
   },
   {
    "duration": 13527,
    "start_time": "2023-04-09T18:45:01.294Z"
   },
   {
    "duration": 3,
    "start_time": "2023-04-09T18:45:14.823Z"
   },
   {
    "duration": 3651,
    "start_time": "2023-04-09T18:45:14.835Z"
   },
   {
    "duration": 1232,
    "start_time": "2023-04-09T18:45:18.488Z"
   },
   {
    "duration": 3,
    "start_time": "2023-04-09T18:45:19.721Z"
   },
   {
    "duration": 3091,
    "start_time": "2023-04-09T18:45:19.734Z"
   },
   {
    "duration": 981,
    "start_time": "2023-04-09T18:45:22.827Z"
   },
   {
    "duration": 3,
    "start_time": "2023-04-09T18:45:23.809Z"
   },
   {
    "duration": 1337,
    "start_time": "2023-04-09T18:45:23.814Z"
   },
   {
    "duration": 267,
    "start_time": "2023-04-09T18:45:25.154Z"
   },
   {
    "duration": 13,
    "start_time": "2023-04-09T18:45:25.423Z"
   },
   {
    "duration": 600,
    "start_time": "2023-04-09T18:45:25.438Z"
   },
   {
    "duration": 328,
    "start_time": "2023-04-09T18:45:26.040Z"
   },
   {
    "duration": 3,
    "start_time": "2023-04-09T18:45:26.371Z"
   },
   {
    "duration": 586,
    "start_time": "2023-04-09T18:45:26.376Z"
   },
   {
    "duration": 168,
    "start_time": "2023-04-09T18:45:26.964Z"
   },
   {
    "duration": 3,
    "start_time": "2023-04-09T18:45:27.134Z"
   },
   {
    "duration": 2209,
    "start_time": "2023-04-09T18:45:27.139Z"
   },
   {
    "duration": 1244,
    "start_time": "2023-04-09T18:45:29.351Z"
   },
   {
    "duration": 383,
    "start_time": "2023-04-09T18:45:30.598Z"
   },
   {
    "duration": 529,
    "start_time": "2023-04-09T18:45:30.983Z"
   },
   {
    "duration": 8,
    "start_time": "2023-04-09T18:45:31.515Z"
   },
   {
    "duration": 60,
    "start_time": "2023-04-09T18:45:31.525Z"
   },
   {
    "duration": 99,
    "start_time": "2023-04-09T18:45:31.587Z"
   },
   {
    "duration": 50,
    "start_time": "2023-04-09T18:52:48.946Z"
   },
   {
    "duration": 4967,
    "start_time": "2023-04-09T18:52:58.109Z"
   },
   {
    "duration": 2100,
    "start_time": "2023-04-09T18:54:50.535Z"
   },
   {
    "duration": 1715,
    "start_time": "2023-04-09T18:54:52.638Z"
   },
   {
    "duration": 4,
    "start_time": "2023-04-09T18:54:54.355Z"
   },
   {
    "duration": 5280,
    "start_time": "2023-04-09T18:54:54.360Z"
   },
   {
    "duration": 5,
    "start_time": "2023-04-09T18:54:59.641Z"
   },
   {
    "duration": 11352,
    "start_time": "2023-04-09T18:54:59.648Z"
   },
   {
    "duration": 2480,
    "start_time": "2023-04-09T18:55:11.001Z"
   },
   {
    "duration": 3,
    "start_time": "2023-04-09T18:55:13.482Z"
   },
   {
    "duration": 15583,
    "start_time": "2023-04-09T18:55:13.487Z"
   },
   {
    "duration": 13310,
    "start_time": "2023-04-09T18:55:29.072Z"
   },
   {
    "duration": 2,
    "start_time": "2023-04-09T18:55:42.384Z"
   },
   {
    "duration": 3640,
    "start_time": "2023-04-09T18:55:42.388Z"
   },
   {
    "duration": 1219,
    "start_time": "2023-04-09T18:55:46.029Z"
   },
   {
    "duration": 2,
    "start_time": "2023-04-09T18:55:47.250Z"
   },
   {
    "duration": 3182,
    "start_time": "2023-04-09T18:55:47.253Z"
   },
   {
    "duration": 1019,
    "start_time": "2023-04-09T18:55:50.437Z"
   },
   {
    "duration": 3,
    "start_time": "2023-04-09T18:55:51.457Z"
   },
   {
    "duration": 1347,
    "start_time": "2023-04-09T18:55:51.461Z"
   },
   {
    "duration": 237,
    "start_time": "2023-04-09T18:55:52.811Z"
   },
   {
    "duration": 3,
    "start_time": "2023-04-09T18:55:53.050Z"
   },
   {
    "duration": 3607,
    "start_time": "2023-04-09T18:55:53.054Z"
   },
   {
    "duration": 355,
    "start_time": "2023-04-09T18:55:56.663Z"
   },
   {
    "duration": 3,
    "start_time": "2023-04-09T18:55:57.020Z"
   },
   {
    "duration": 563,
    "start_time": "2023-04-09T18:55:57.025Z"
   },
   {
    "duration": 135,
    "start_time": "2023-04-09T18:55:57.589Z"
   },
   {
    "duration": 10,
    "start_time": "2023-04-09T18:55:57.726Z"
   },
   {
    "duration": 1999,
    "start_time": "2023-04-09T18:55:57.737Z"
   },
   {
    "duration": 1092,
    "start_time": "2023-04-09T18:55:59.740Z"
   },
   {
    "duration": 319,
    "start_time": "2023-04-09T18:56:00.834Z"
   },
   {
    "duration": 522,
    "start_time": "2023-04-09T18:56:01.155Z"
   },
   {
    "duration": 5,
    "start_time": "2023-04-09T18:56:01.679Z"
   },
   {
    "duration": 67,
    "start_time": "2023-04-09T18:56:01.685Z"
   },
   {
    "duration": 95,
    "start_time": "2023-04-09T18:56:01.753Z"
   },
   {
    "duration": 1475,
    "start_time": "2023-04-09T18:56:01.850Z"
   },
   {
    "duration": 8537,
    "start_time": "2023-04-09T19:01:35.576Z"
   },
   {
    "duration": 49,
    "start_time": "2023-04-09T19:02:15.819Z"
   },
   {
    "duration": 2370,
    "start_time": "2023-04-09T19:02:23.426Z"
   },
   {
    "duration": 1789,
    "start_time": "2023-04-09T19:02:25.798Z"
   },
   {
    "duration": 4,
    "start_time": "2023-04-09T19:02:27.588Z"
   },
   {
    "duration": 9209,
    "start_time": "2023-04-09T19:02:27.594Z"
   },
   {
    "duration": 4,
    "start_time": "2023-04-09T19:02:36.805Z"
   },
   {
    "duration": 11385,
    "start_time": "2023-04-09T19:02:36.810Z"
   },
   {
    "duration": 2484,
    "start_time": "2023-04-09T19:02:48.196Z"
   },
   {
    "duration": 2,
    "start_time": "2023-04-09T19:02:50.682Z"
   },
   {
    "duration": 15881,
    "start_time": "2023-04-09T19:02:50.687Z"
   },
   {
    "duration": 13577,
    "start_time": "2023-04-09T19:03:06.571Z"
   },
   {
    "duration": 2,
    "start_time": "2023-04-09T19:03:20.150Z"
   },
   {
    "duration": 3648,
    "start_time": "2023-04-09T19:03:20.154Z"
   },
   {
    "duration": 1294,
    "start_time": "2023-04-09T19:03:23.804Z"
   },
   {
    "duration": 3,
    "start_time": "2023-04-09T19:03:25.099Z"
   },
   {
    "duration": 3193,
    "start_time": "2023-04-09T19:03:25.103Z"
   },
   {
    "duration": 1100,
    "start_time": "2023-04-09T19:03:28.297Z"
   },
   {
    "duration": 2,
    "start_time": "2023-04-09T19:03:29.399Z"
   },
   {
    "duration": 1362,
    "start_time": "2023-04-09T19:03:29.403Z"
   },
   {
    "duration": 230,
    "start_time": "2023-04-09T19:03:30.767Z"
   },
   {
    "duration": 3,
    "start_time": "2023-04-09T19:03:30.999Z"
   },
   {
    "duration": 3727,
    "start_time": "2023-04-09T19:03:31.004Z"
   },
   {
    "duration": 410,
    "start_time": "2023-04-09T19:03:34.733Z"
   },
   {
    "duration": 3,
    "start_time": "2023-04-09T19:03:35.145Z"
   },
   {
    "duration": 564,
    "start_time": "2023-04-09T19:03:35.150Z"
   },
   {
    "duration": 126,
    "start_time": "2023-04-09T19:03:35.716Z"
   },
   {
    "duration": 3,
    "start_time": "2023-04-09T19:03:35.843Z"
   },
   {
    "duration": 2027,
    "start_time": "2023-04-09T19:03:35.847Z"
   },
   {
    "duration": 1046,
    "start_time": "2023-04-09T19:03:37.878Z"
   },
   {
    "duration": 305,
    "start_time": "2023-04-09T19:03:38.926Z"
   },
   {
    "duration": 472,
    "start_time": "2023-04-09T19:03:39.238Z"
   },
   {
    "duration": 5,
    "start_time": "2023-04-09T19:03:39.712Z"
   },
   {
    "duration": 44,
    "start_time": "2023-04-09T19:03:39.718Z"
   },
   {
    "duration": 93,
    "start_time": "2023-04-09T19:03:39.764Z"
   },
   {
    "duration": 8763,
    "start_time": "2023-04-09T19:03:39.859Z"
   },
   {
    "duration": 60,
    "start_time": "2023-04-09T19:04:16.776Z"
   },
   {
    "duration": 2243,
    "start_time": "2023-04-09T19:05:55.189Z"
   },
   {
    "duration": 1648,
    "start_time": "2023-04-09T19:05:57.435Z"
   },
   {
    "duration": 3,
    "start_time": "2023-04-09T19:05:59.085Z"
   },
   {
    "duration": 6169,
    "start_time": "2023-04-09T19:05:59.090Z"
   },
   {
    "duration": 7,
    "start_time": "2023-04-09T19:06:05.261Z"
   },
   {
    "duration": 11525,
    "start_time": "2023-04-09T19:06:05.269Z"
   },
   {
    "duration": 2515,
    "start_time": "2023-04-09T19:06:16.796Z"
   },
   {
    "duration": 3,
    "start_time": "2023-04-09T19:06:19.312Z"
   },
   {
    "duration": 15818,
    "start_time": "2023-04-09T19:06:19.317Z"
   },
   {
    "duration": 13247,
    "start_time": "2023-04-09T19:06:35.137Z"
   },
   {
    "duration": 3,
    "start_time": "2023-04-09T19:06:48.386Z"
   },
   {
    "duration": 3572,
    "start_time": "2023-04-09T19:06:48.390Z"
   },
   {
    "duration": 1205,
    "start_time": "2023-04-09T19:06:51.963Z"
   },
   {
    "duration": 2,
    "start_time": "2023-04-09T19:06:53.169Z"
   },
   {
    "duration": 3084,
    "start_time": "2023-04-09T19:06:53.173Z"
   },
   {
    "duration": 954,
    "start_time": "2023-04-09T19:06:56.258Z"
   },
   {
    "duration": 3,
    "start_time": "2023-04-09T19:06:57.213Z"
   },
   {
    "duration": 1285,
    "start_time": "2023-04-09T19:06:57.217Z"
   },
   {
    "duration": 196,
    "start_time": "2023-04-09T19:06:58.504Z"
   },
   {
    "duration": 3,
    "start_time": "2023-04-09T19:06:58.701Z"
   },
   {
    "duration": 541,
    "start_time": "2023-04-09T19:06:58.706Z"
   },
   {
    "duration": 338,
    "start_time": "2023-04-09T19:06:59.249Z"
   },
   {
    "duration": 3,
    "start_time": "2023-04-09T19:06:59.588Z"
   },
   {
    "duration": 563,
    "start_time": "2023-04-09T19:06:59.592Z"
   },
   {
    "duration": 128,
    "start_time": "2023-04-09T19:07:00.157Z"
   },
   {
    "duration": 2,
    "start_time": "2023-04-09T19:07:00.287Z"
   },
   {
    "duration": 2149,
    "start_time": "2023-04-09T19:07:00.291Z"
   },
   {
    "duration": 1061,
    "start_time": "2023-04-09T19:07:02.443Z"
   },
   {
    "duration": 304,
    "start_time": "2023-04-09T19:07:03.506Z"
   },
   {
    "duration": 516,
    "start_time": "2023-04-09T19:07:03.812Z"
   },
   {
    "duration": 5,
    "start_time": "2023-04-09T19:07:04.335Z"
   },
   {
    "duration": 49,
    "start_time": "2023-04-09T19:07:04.342Z"
   },
   {
    "duration": 99,
    "start_time": "2023-04-09T19:07:04.393Z"
   },
   {
    "duration": 4575,
    "start_time": "2023-04-09T19:07:04.493Z"
   },
   {
    "duration": 6162,
    "start_time": "2023-04-09T19:07:42.433Z"
   },
   {
    "duration": 6,
    "start_time": "2023-04-09T19:22:48.508Z"
   },
   {
    "duration": 47,
    "start_time": "2023-04-09T19:24:12.365Z"
   },
   {
    "duration": 97,
    "start_time": "2023-04-09T19:32:26.371Z"
   },
   {
    "duration": 111,
    "start_time": "2023-04-09T19:33:13.364Z"
   },
   {
    "duration": 2397,
    "start_time": "2023-04-09T19:34:18.224Z"
   },
   {
    "duration": 1835,
    "start_time": "2023-04-09T19:34:20.624Z"
   },
   {
    "duration": 4,
    "start_time": "2023-04-09T19:34:22.461Z"
   },
   {
    "duration": 5211,
    "start_time": "2023-04-09T19:34:22.467Z"
   },
   {
    "duration": 6,
    "start_time": "2023-04-09T19:34:27.680Z"
   },
   {
    "duration": 12040,
    "start_time": "2023-04-09T19:34:27.688Z"
   },
   {
    "duration": 2691,
    "start_time": "2023-04-09T19:34:39.734Z"
   },
   {
    "duration": 8,
    "start_time": "2023-04-09T19:34:42.427Z"
   },
   {
    "duration": 16037,
    "start_time": "2023-04-09T19:34:42.436Z"
   },
   {
    "duration": 13760,
    "start_time": "2023-04-09T19:34:58.476Z"
   },
   {
    "duration": 2,
    "start_time": "2023-04-09T19:35:12.238Z"
   },
   {
    "duration": 3696,
    "start_time": "2023-04-09T19:35:12.243Z"
   },
   {
    "duration": 1250,
    "start_time": "2023-04-09T19:35:15.941Z"
   },
   {
    "duration": 2,
    "start_time": "2023-04-09T19:35:17.193Z"
   },
   {
    "duration": 3100,
    "start_time": "2023-04-09T19:35:17.197Z"
   },
   {
    "duration": 1031,
    "start_time": "2023-04-09T19:35:20.299Z"
   },
   {
    "duration": 4,
    "start_time": "2023-04-09T19:35:21.334Z"
   },
   {
    "duration": 1346,
    "start_time": "2023-04-09T19:35:21.340Z"
   },
   {
    "duration": 225,
    "start_time": "2023-04-09T19:35:22.688Z"
   },
   {
    "duration": 3,
    "start_time": "2023-04-09T19:35:22.915Z"
   },
   {
    "duration": 544,
    "start_time": "2023-04-09T19:35:22.920Z"
   },
   {
    "duration": 388,
    "start_time": "2023-04-09T19:35:23.467Z"
   },
   {
    "duration": 3,
    "start_time": "2023-04-09T19:35:23.856Z"
   },
   {
    "duration": 565,
    "start_time": "2023-04-09T19:35:23.861Z"
   },
   {
    "duration": 192,
    "start_time": "2023-04-09T19:35:24.428Z"
   },
   {
    "duration": 3,
    "start_time": "2023-04-09T19:35:24.622Z"
   },
   {
    "duration": 2264,
    "start_time": "2023-04-09T19:35:24.635Z"
   },
   {
    "duration": 1215,
    "start_time": "2023-04-09T19:35:26.902Z"
   },
   {
    "duration": 394,
    "start_time": "2023-04-09T19:35:28.120Z"
   },
   {
    "duration": 528,
    "start_time": "2023-04-09T19:35:28.515Z"
   },
   {
    "duration": 7,
    "start_time": "2023-04-09T19:35:29.044Z"
   },
   {
    "duration": 53,
    "start_time": "2023-04-09T19:35:29.053Z"
   },
   {
    "duration": 96,
    "start_time": "2023-04-09T19:35:29.108Z"
   },
   {
    "duration": 6854,
    "start_time": "2023-04-09T19:35:29.206Z"
   },
   {
    "duration": 92,
    "start_time": "2023-04-09T19:35:36.062Z"
   },
   {
    "duration": 147,
    "start_time": "2023-04-09T19:35:36.155Z"
   },
   {
    "duration": 2114,
    "start_time": "2023-04-09T19:36:07.068Z"
   },
   {
    "duration": 1669,
    "start_time": "2023-04-09T19:36:09.184Z"
   },
   {
    "duration": 4,
    "start_time": "2023-04-09T19:36:10.855Z"
   },
   {
    "duration": 4928,
    "start_time": "2023-04-09T19:36:10.862Z"
   },
   {
    "duration": 4,
    "start_time": "2023-04-09T19:36:15.791Z"
   },
   {
    "duration": 11899,
    "start_time": "2023-04-09T19:36:15.797Z"
   },
   {
    "duration": 2996,
    "start_time": "2023-04-09T19:36:27.698Z"
   },
   {
    "duration": 3,
    "start_time": "2023-04-09T19:36:30.695Z"
   },
   {
    "duration": 16325,
    "start_time": "2023-04-09T19:36:30.700Z"
   },
   {
    "duration": 13895,
    "start_time": "2023-04-09T19:36:47.028Z"
   },
   {
    "duration": 3,
    "start_time": "2023-04-09T19:37:00.934Z"
   },
   {
    "duration": 3590,
    "start_time": "2023-04-09T19:37:00.938Z"
   },
   {
    "duration": 1297,
    "start_time": "2023-04-09T19:37:04.535Z"
   },
   {
    "duration": 3,
    "start_time": "2023-04-09T19:37:05.833Z"
   },
   {
    "duration": 3115,
    "start_time": "2023-04-09T19:37:05.838Z"
   },
   {
    "duration": 986,
    "start_time": "2023-04-09T19:37:08.955Z"
   },
   {
    "duration": 3,
    "start_time": "2023-04-09T19:37:09.943Z"
   },
   {
    "duration": 1804,
    "start_time": "2023-04-09T19:37:09.947Z"
   },
   {
    "duration": 210,
    "start_time": "2023-04-09T19:37:11.753Z"
   },
   {
    "duration": 3,
    "start_time": "2023-04-09T19:37:11.964Z"
   },
   {
    "duration": 921,
    "start_time": "2023-04-09T19:37:11.968Z"
   },
   {
    "duration": 355,
    "start_time": "2023-04-09T19:37:12.892Z"
   },
   {
    "duration": 3,
    "start_time": "2023-04-09T19:37:13.249Z"
   },
   {
    "duration": 596,
    "start_time": "2023-04-09T19:37:13.254Z"
   },
   {
    "duration": 139,
    "start_time": "2023-04-09T19:37:13.851Z"
   },
   {
    "duration": 2,
    "start_time": "2023-04-09T19:37:13.992Z"
   },
   {
    "duration": 2260,
    "start_time": "2023-04-09T19:37:13.996Z"
   },
   {
    "duration": 1210,
    "start_time": "2023-04-09T19:37:16.260Z"
   },
   {
    "duration": 337,
    "start_time": "2023-04-09T19:37:17.472Z"
   },
   {
    "duration": 546,
    "start_time": "2023-04-09T19:37:17.810Z"
   },
   {
    "duration": 6,
    "start_time": "2023-04-09T19:37:18.358Z"
   },
   {
    "duration": 56,
    "start_time": "2023-04-09T19:37:18.366Z"
   },
   {
    "duration": 103,
    "start_time": "2023-04-09T19:37:18.424Z"
   },
   {
    "duration": 7100,
    "start_time": "2023-04-09T19:37:18.535Z"
   },
   {
    "duration": 123,
    "start_time": "2023-04-09T19:37:25.637Z"
   },
   {
    "duration": 163,
    "start_time": "2023-04-09T19:37:25.763Z"
   },
   {
    "duration": 37,
    "start_time": "2023-04-09T19:37:25.928Z"
   },
   {
    "duration": 295,
    "start_time": "2023-04-13T23:10:43.672Z"
   }
  ],
  "kernelspec": {
   "display_name": "Python 3 (ipykernel)",
   "language": "python",
   "name": "python3"
  },
  "language_info": {
   "codemirror_mode": {
    "name": "ipython",
    "version": 3
   },
   "file_extension": ".py",
   "mimetype": "text/x-python",
   "name": "python",
   "nbconvert_exporter": "python",
   "pygments_lexer": "ipython3",
   "version": "3.10.3"
  },
  "toc": {
   "base_numbering": 1,
   "nav_menu": {},
   "number_sections": false,
   "sideBar": true,
   "skip_h1_title": false,
   "title_cell": "Table of Contents",
   "title_sidebar": "Contents",
   "toc_cell": false,
   "toc_position": {
    "height": "calc(100% - 180px)",
    "left": "10px",
    "top": "150px",
    "width": "259.594px"
   },
   "toc_section_display": true,
   "toc_window_display": true
  },
  "varInspector": {
   "cols": {
    "lenName": 16,
    "lenType": 16,
    "lenVar": 40
   },
   "kernels_config": {
    "python": {
     "delete_cmd_postfix": "",
     "delete_cmd_prefix": "del ",
     "library": "var_list.py",
     "varRefreshCmd": "print(var_dic_list())"
    },
    "r": {
     "delete_cmd_postfix": ") ",
     "delete_cmd_prefix": "rm(",
     "library": "var_list.r",
     "varRefreshCmd": "cat(var_dic_list()) "
    }
   },
   "types_to_exclude": [
    "module",
    "function",
    "builtin_function_or_method",
    "instance",
    "_Feature"
   ],
   "window_display": false
  },
  "vscode": {
   "interpreter": {
    "hash": "aee8b7b246df8f9039afb4144a1f6fd8d2ca17a180786b69acc140d282b71a49"
   }
  }
 },
 "nbformat": 4,
 "nbformat_minor": 5
}
